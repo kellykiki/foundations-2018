{
 "cells": [
  {
   "cell_type": "markdown",
   "metadata": {},
   "source": [
    "# Texas Cosmetologist Violations\n",
    "\n",
    "Texas has a system for [searching for license violations](https://www.tdlr.texas.gov/cimsfo/fosearch.asp). You're going to search for cosmetologists!"
   ]
  },
  {
   "cell_type": "markdown",
   "metadata": {},
   "source": [
    "## Setup: Import what you'll need to scrape the page\n",
    "\n",
    "We'll be using Selenium for this, *not* BeautifulSoup and requests."
   ]
  },
  {
   "cell_type": "code",
   "execution_count": 1,
   "metadata": {},
   "outputs": [],
   "source": [
    "from selenium import webdriver\n",
    "from selenium.webdriver.common.keys import Keys\n",
    "from selenium.webdriver.support.ui import Select\n",
    "from selenium.webdriver.support.ui import WebDriverWait\n",
    "import pandas as pd"
   ]
  },
  {
   "cell_type": "markdown",
   "metadata": {
    "collapsed": true
   },
   "source": [
    "## Starting your search\n",
    "\n",
    "Starting from [here](https://www.tdlr.texas.gov/cimsfo/fosearch.asp), search for cosmetologist violations for people with the last name **Nguyen**."
   ]
  },
  {
   "cell_type": "code",
   "execution_count": 2,
   "metadata": {},
   "outputs": [],
   "source": [
    "driver = webdriver.Chrome()"
   ]
  },
  {
   "cell_type": "code",
   "execution_count": 3,
   "metadata": {},
   "outputs": [],
   "source": [
    "driver.get('https://www.tdlr.texas.gov/cimsfo/fosearch.asp')"
   ]
  },
  {
   "cell_type": "code",
   "execution_count": 4,
   "metadata": {},
   "outputs": [],
   "source": [
    "text_input = driver.find_element_by_name('pht_lnm')"
   ]
  },
  {
   "cell_type": "code",
   "execution_count": 5,
   "metadata": {},
   "outputs": [],
   "source": [
    "text_input.send_keys('Nguyen')"
   ]
  },
  {
   "cell_type": "code",
   "execution_count": 6,
   "metadata": {},
   "outputs": [],
   "source": [
    "dropdown = Select(driver.find_element_by_name(\"pht_status\"))\n",
    "dropdown.select_by_visible_text('Cosmetologists')"
   ]
  },
  {
   "cell_type": "code",
   "execution_count": 7,
   "metadata": {},
   "outputs": [],
   "source": [
    "search_button = driver.find_element_by_xpath('//*[@id=\"dat-menu\"]/div/div[2]/div/div/section/div/div/table/tbody/tr/td/form/table/tbody/tr[18]/td/input[1]')\n",
    "search_button.click()"
   ]
  },
  {
   "cell_type": "markdown",
   "metadata": {},
   "source": [
    "## Scraping\n",
    "\n",
    "Once you are on the results page, do this."
   ]
  },
  {
   "cell_type": "markdown",
   "metadata": {},
   "source": [
    "### Loop through each result and print the entire row\n",
    "\n",
    "Okay wait, that's a heck of a lot. Use `[:10]` to only do the first ten (`listname[:10]` gives you the first ten)."
   ]
  },
  {
   "cell_type": "code",
   "execution_count": 8,
   "metadata": {},
   "outputs": [
    {
     "name": "stdout",
     "output_type": "stream",
     "text": [
      "Name and Location Order Basis for Order\n",
      "NGUYEN, TOAN HUU\n",
      "City: SAN ANTONIO\n",
      "County: BEXAR\n",
      "Zip Code: 78217\n",
      "\n",
      "\n",
      "License #(s): 780948, 1706491, 1699123\n",
      "\n",
      "Complaint # COS20180004289 Date: 5/30/2018\n",
      "\n",
      "Respondent is assessed an administrative penalty in the amount of $500. Respondent failed to clean and sanitize whirlpool foot spas as required at the end of each day.\n",
      "NGUYEN, HANH CONG\n",
      "City: EL PASO\n",
      "County: EL PASO\n",
      "Zip Code: 79934\n",
      "\n",
      "\n",
      "License #: 737708\n",
      "\n",
      "Complaint # COS20180006594 Date: 5/30/2018\n",
      "\n",
      "Respondent is assessed an administrative penalty in the amount of $1,000. Respondent failed to clean and sanitize whirlpool foot spas as required at the end of each day; Respondent failed to use items subject to possible cross contamination in a manner that does not contaminate the remaining product.\n",
      "NGUYEN, KHIEM VAN\n",
      "City: LONGVIEW\n",
      "County: GREGG\n",
      "Zip Code: 75604\n",
      "\n",
      "\n",
      "License #: 731665\n",
      "\n",
      "Complaint # COS20180000257 Date: 5/17/2018\n",
      "\n",
      "Respondent is assessed an administrative penalty in the amount of $1,250. Respondent failed to follow whirlpool foot spas cleaning and sanitization procedures as required; Respondent failed to clean, disinfect, and sterilize manicure and pedicure implements after each use; Respondent failed to clean and disinfect all wax pots.\n",
      "NGUYEN, DIEP THI NGOC\n",
      "City: HOUSTON\n",
      "County: HARRIS\n",
      "Zip Code: 77014\n",
      "\n",
      "\n",
      "License #(s): 1347649, 760528\n",
      "\n",
      "Complaint # COS20180004915 Date: 5/17/2018\n",
      "\n",
      "Respondent is assessed an administrative penalty in the amount of $500. Respondent failed to disinfect tools, implements, and supplies with an EPA-registered disinfectant solution; Respondent failed to disinfect multi-use equipment, implements, and tools prior to use on each client.\n",
      "NGUYEN, LAN T-THUY\n",
      "City: SAN ANTONIO\n",
      "County: BEXAR\n",
      "Zip Code: 78255\n",
      "\n",
      "NGUYEN, SAMLOI\n",
      "City: SAN ANTONIO\n",
      "County: BEXAR\n",
      "Zip Code: 78255\n",
      "\n",
      "\n",
      "License #: 767339\n",
      "\n",
      "Complaint # COS20180009255 Date: 5/17/2018\n",
      "\n",
      "Respondent is assessed an administrative penalty in the amount of $575. Respondent failed to clean, disinfect, and sterilize manicure and pedicure implements after each use.\n",
      "NGUYEN, TUAN A\n",
      "City: AUSTIN\n",
      "County: TRAVIS\n",
      "Zip Code: 78723\n",
      "\n",
      "NGUYEN, TUAN VAN\n",
      "City: ARLINGTON\n",
      "County: TARRANT\n",
      "Zip Code: 76011\n",
      "\n",
      "\n",
      "License #: 681274\n",
      "\n",
      "Complaint # COS20140018343 Date: 5/9/2018\n",
      "\n",
      "Respondent is assessed an administrative penalty in the amount of $1,000. Respondent failed to clean and disinfect all wax pots; Respondent failed to disinfect tools, implements, and supplies with a hospital-grade EPA-registered disinfectant solution; Respondent failed to replace materials that contact skin, or skin products from multi-use containers, with new or clean articles for each client.\n",
      "NGUYEN, THAO B\n",
      "City: EULESS\n",
      "County: TARRANT\n",
      "Zip Code: 76039\n",
      "\n",
      "\n",
      "License #(s): 721373, 1142884\n",
      "\n",
      "Complaint # COS20180008846 Date: 5/9/2018\n",
      "\n",
      "Respondent is assessed an administrative penalty in the amount of $750. Respondent failed to clean and sanitize whirlpool foot spas as required at the end of each day.\n",
      "NGUYEN, BETH MARIA\n",
      "City: HOUSTON\n",
      "County: HARRIS\n",
      "Zip Code: 77083\n",
      "\n",
      "\n",
      "License #: 1470271\n",
      "\n",
      "Complaint # COS20180000897 Date: 4/30/2018\n",
      "\n",
      "Respondent's Cosmetology Operator license was revoked by operation of law on 03/29/16. The Respondent's license was revoked upon Respondent's imprisonment in a penitentiary.\n",
      "NGUYEN, TRUNG N\n",
      "City: AMARILLO\n",
      "County: POTTER\n",
      "Zip Code: 79106\n",
      "\n",
      "\n",
      "License #(s): 1196244, 767015, 767014\n",
      "\n",
      "Complaint # COS20170023893 Date: 4/25/2018\n",
      "\n",
      "Respondent is assessed an administrative penalty in the amount of $1,300. Respondent failed to clean, disinfect, and sterilize manicure and pedicure implements after each use.\n"
     ]
    }
   ],
   "source": [
    "rows = driver.find_elements_by_tag_name('tr')\n",
    "for row in rows[:10]:\n",
    "    print(row.text)"
   ]
  },
  {
   "cell_type": "markdown",
   "metadata": {},
   "source": [
    "### Loop through each result and print each person's name\n",
    "\n",
    "You'll get an error because the first one doesn't have a name. How do you make that not happen?! If you want to ignore an error, you use code like this:\n",
    "\n",
    "```python\n",
    "try:\n",
    "   try to do something\n",
    "except:\n",
    "   print(\"It didn't work')\n",
    "```\n",
    "\n",
    "It should help you out. If you don't want to print anything, you can type `pass` instead of the `print` statement.\n",
    "\n",
    "**Why doesn't the first one have a name?**"
   ]
  },
  {
   "cell_type": "code",
   "execution_count": 9,
   "metadata": {},
   "outputs": [
    {
     "name": "stdout",
     "output_type": "stream",
     "text": [
      "It didn't work\n",
      "NGUYEN, TOAN HUU\n",
      "NGUYEN, HANH CONG\n",
      "NGUYEN, KHIEM VAN\n",
      "NGUYEN, DIEP THI NGOC\n",
      "NGUYEN, LAN T-THUY\n",
      "NGUYEN, TUAN A\n",
      "NGUYEN, THAO B\n",
      "NGUYEN, BETH MARIA\n",
      "NGUYEN, TRUNG N\n"
     ]
    }
   ],
   "source": [
    "#for row in rows[:11], if we needed 10 people\n",
    "for row in rows[:10]:\n",
    "    name = row.find_elements_by_class_name('results_text')\n",
    "    try:\n",
    "        print(name[0].text)\n",
    "    except: \n",
    "        print(\"It didn't work\")"
   ]
  },
  {
   "cell_type": "code",
   "execution_count": 10,
   "metadata": {},
   "outputs": [
    {
     "name": "stdout",
     "output_type": "stream",
     "text": [
      "NGUYEN, TOAN HUU\n",
      "NGUYEN, HANH CONG\n",
      "NGUYEN, KHIEM VAN\n",
      "NGUYEN, DIEP THI NGOC\n",
      "NGUYEN, LAN T-THUY\n",
      "NGUYEN, TUAN A\n",
      "NGUYEN, THAO B\n",
      "NGUYEN, BETH MARIA\n",
      "NGUYEN, TRUNG N\n"
     ]
    }
   ],
   "source": [
    "#for row in rows[1:11], if we needed 10 people\n",
    "for row in rows[1:10]:\n",
    "    name = row.find_elements_by_class_name('results_text')\n",
    "    print(name[0].text)\n",
    "    \n",
    "    \n",
    "    #print(row.text)"
   ]
  },
  {
   "cell_type": "markdown",
   "metadata": {},
   "source": [
    "## Loop through each result, printing each violation description (\"Basis for order\")\n",
    "\n",
    "> - *Tip: You'll get an error even if you're ALMOST right - which row is causing the problem?*\n",
    "> - *Tip: You can get the HTML of something by doing `.get_attribute('innerHTML')` - it might help you diagnose your issue.*\n",
    "> - *Tip: Or I guess you could just skip the one with the problem..."
   ]
  },
  {
   "cell_type": "code",
   "execution_count": 11,
   "metadata": {},
   "outputs": [
    {
     "name": "stdout",
     "output_type": "stream",
     "text": [
      "It didn't work\n",
      "Respondent failed to clean and sanitize whirlpool foot spas as required at the end of each day.\n",
      "Respondent failed to clean and sanitize whirlpool foot spas as required at the end of each day; Respondent failed to use items subject to possible cross contamination in a manner that does not contaminate the remaining product.\n",
      "Respondent failed to follow whirlpool foot spas cleaning and sanitization procedures as required; Respondent failed to clean, disinfect, and sterilize manicure and pedicure implements after each use; Respondent failed to clean and disinfect all wax pots.\n",
      "Respondent failed to disinfect tools, implements, and supplies with an EPA-registered disinfectant solution; Respondent failed to disinfect multi-use equipment, implements, and tools prior to use on each client.\n",
      "Respondent failed to clean, disinfect, and sterilize manicure and pedicure implements after each use.\n",
      "Respondent failed to clean and disinfect all wax pots; Respondent failed to disinfect tools, implements, and supplies with a hospital-grade EPA-registered disinfectant solution; Respondent failed to replace materials that contact skin, or skin products from multi-use containers, with new or clean articles for each client.\n",
      "Respondent failed to clean and sanitize whirlpool foot spas as required at the end of each day.\n",
      "The Respondent's license was revoked upon Respondent's imprisonment in a penitentiary.\n",
      "Respondent failed to clean, disinfect, and sterilize manicure and pedicure implements after each use.\n"
     ]
    }
   ],
   "source": [
    "#for row in rows[:11], if we needed 10 people\n",
    "for row in rows[:10]:\n",
    "    info = row.find_elements_by_tag_name('td')\n",
    "    try:\n",
    "        print(info[2].text)\n",
    "    except: \n",
    "        print(\"It didn't work\")"
   ]
  },
  {
   "cell_type": "code",
   "execution_count": 12,
   "metadata": {},
   "outputs": [
    {
     "name": "stdout",
     "output_type": "stream",
     "text": [
      "Respondent failed to clean and sanitize whirlpool foot spas as required at the end of each day.\n",
      "Respondent failed to clean and sanitize whirlpool foot spas as required at the end of each day; Respondent failed to use items subject to possible cross contamination in a manner that does not contaminate the remaining product.\n",
      "Respondent failed to follow whirlpool foot spas cleaning and sanitization procedures as required; Respondent failed to clean, disinfect, and sterilize manicure and pedicure implements after each use; Respondent failed to clean and disinfect all wax pots.\n",
      "Respondent failed to disinfect tools, implements, and supplies with an EPA-registered disinfectant solution; Respondent failed to disinfect multi-use equipment, implements, and tools prior to use on each client.\n",
      "Respondent failed to clean, disinfect, and sterilize manicure and pedicure implements after each use.\n",
      "Respondent failed to clean and disinfect all wax pots; Respondent failed to disinfect tools, implements, and supplies with a hospital-grade EPA-registered disinfectant solution; Respondent failed to replace materials that contact skin, or skin products from multi-use containers, with new or clean articles for each client.\n",
      "Respondent failed to clean and sanitize whirlpool foot spas as required at the end of each day.\n",
      "The Respondent's license was revoked upon Respondent's imprisonment in a penitentiary.\n",
      "Respondent failed to clean, disinfect, and sterilize manicure and pedicure implements after each use.\n"
     ]
    }
   ],
   "source": [
    "#for row in rows[1:11], if we needed 11 people\n",
    "for row in rows[1:10]:\n",
    "    info = row.find_elements_by_tag_name('td')\n",
    "    print(info[2].text)"
   ]
  },
  {
   "cell_type": "markdown",
   "metadata": {},
   "source": [
    "## Loop through each result, printing the complaint number\n",
    "\n",
    "- TIP: Think about the order of the elements"
   ]
  },
  {
   "cell_type": "code",
   "execution_count": 13,
   "metadata": {},
   "outputs": [
    {
     "name": "stdout",
     "output_type": "stream",
     "text": [
      "It didn't work\n",
      "COS20180004289\n",
      "COS20180006594\n",
      "COS20180000257\n",
      "COS20180004915\n",
      "COS20180009255\n",
      "COS20140018343\n",
      "COS20180008846\n",
      "COS20180000897\n",
      "COS20170023893\n"
     ]
    }
   ],
   "source": [
    "#for row in rows[:11], if we needed 10 people\n",
    "for row in rows[:10]:\n",
    "    number = row.find_elements_by_class_name('results_text')\n",
    "    try:\n",
    "        print(number[-2].text)\n",
    "    except: \n",
    "        print(\"It didn't work\")"
   ]
  },
  {
   "cell_type": "code",
   "execution_count": 14,
   "metadata": {},
   "outputs": [
    {
     "name": "stdout",
     "output_type": "stream",
     "text": [
      "COS20180004289\n",
      "COS20180006594\n",
      "COS20180000257\n",
      "COS20180004915\n",
      "COS20180009255\n",
      "COS20140018343\n",
      "COS20180008846\n",
      "COS20180000897\n",
      "COS20170023893\n"
     ]
    }
   ],
   "source": [
    "#for row in rows[1:11], if we needed 10 people\n",
    "for row in rows[1:10]:\n",
    "    number = row.find_elements_by_class_name('results_text')\n",
    "    print(number[-2].text)"
   ]
  },
  {
   "cell_type": "markdown",
   "metadata": {},
   "source": [
    "## Saving the results\n",
    "\n",
    "### Loop through each result to create a list of dictionaries\n",
    "\n",
    "Each dictionary must contain\n",
    "\n",
    "- Person's name\n",
    "- Violation description\n",
    "- Violation number\n",
    "- License Numbers\n",
    "- Zip Code\n",
    "- County\n",
    "- City\n",
    "\n",
    "Create a new dictionary for each result (except the header).\n",
    "\n",
    "> *Tip: If you want to ask for the \"next sibling,\" you can't use `find_next_sibling` in Selenium, you need to use `element.find_element_by_xpath(\"following-sibling::div\")` to find the next div, or `element.find_element_by_xpath(\"following-sibling::*\")` to find the next anything."
   ]
  },
  {
   "cell_type": "code",
   "execution_count": 15,
   "metadata": {},
   "outputs": [
    {
     "name": "stdout",
     "output_type": "stream",
     "text": [
      "-----------\n",
      "{'name': 'NGUYEN, TOAN HUU', 'viiolation_description': 'Respondent failed to clean and sanitize whirlpool foot spas as required at the end of each day.', 'violation_number': 'COS20180004289', 'license_numbers': '780948, 1706491, 1699123', 'zip_code': '78217', 'country': 'BEXAR', 'city': 'SAN ANTONIO'}\n",
      "-----------\n",
      "{'name': 'NGUYEN, HANH CONG', 'viiolation_description': 'Respondent failed to clean and sanitize whirlpool foot spas as required at the end of each day; Respondent failed to use items subject to possible cross contamination in a manner that does not contaminate the remaining product.', 'violation_number': 'COS20180006594', 'license_numbers': '737708', 'zip_code': '79934', 'country': 'EL PASO', 'city': 'EL PASO'}\n",
      "-----------\n",
      "{'name': 'NGUYEN, KHIEM VAN', 'viiolation_description': 'Respondent failed to follow whirlpool foot spas cleaning and sanitization procedures as required; Respondent failed to clean, disinfect, and sterilize manicure and pedicure implements after each use; Respondent failed to clean and disinfect all wax pots.', 'violation_number': 'COS20180000257', 'license_numbers': '731665', 'zip_code': '75604', 'country': 'GREGG', 'city': 'LONGVIEW'}\n",
      "-----------\n",
      "{'name': 'NGUYEN, DIEP THI NGOC', 'viiolation_description': 'Respondent failed to disinfect tools, implements, and supplies with an EPA-registered disinfectant solution; Respondent failed to disinfect multi-use equipment, implements, and tools prior to use on each client.', 'violation_number': 'COS20180004915', 'license_numbers': '1347649, 760528', 'zip_code': '77014', 'country': 'HARRIS', 'city': 'HOUSTON'}\n",
      "-----------\n",
      "{'name': 'NGUYEN, LAN T-THUY', 'viiolation_description': 'Respondent failed to clean, disinfect, and sterilize manicure and pedicure implements after each use.', 'violation_number': 'COS20180009255', 'license_numbers': 'NGUYEN, SAMLOI', 'zip_code': '78255', 'country': 'BEXAR', 'city': 'SAN ANTONIO'}\n",
      "-----------\n",
      "{'name': 'NGUYEN, TUAN A', 'viiolation_description': 'Respondent failed to clean and disinfect all wax pots; Respondent failed to disinfect tools, implements, and supplies with a hospital-grade EPA-registered disinfectant solution; Respondent failed to replace materials that contact skin, or skin products from multi-use containers, with new or clean articles for each client.', 'violation_number': 'COS20140018343', 'license_numbers': 'NGUYEN, TUAN VAN', 'zip_code': '78723', 'country': 'TRAVIS', 'city': 'AUSTIN'}\n",
      "-----------\n",
      "{'name': 'NGUYEN, THAO B', 'viiolation_description': 'Respondent failed to clean and sanitize whirlpool foot spas as required at the end of each day.', 'violation_number': 'COS20180008846', 'license_numbers': '721373, 1142884', 'zip_code': '76039', 'country': 'TARRANT', 'city': 'EULESS'}\n",
      "-----------\n",
      "{'name': 'NGUYEN, BETH MARIA', 'viiolation_description': \"The Respondent's license was revoked upon Respondent's imprisonment in a penitentiary.\", 'violation_number': 'COS20180000897', 'license_numbers': '1470271', 'zip_code': '77083', 'country': 'HARRIS', 'city': 'HOUSTON'}\n",
      "-----------\n",
      "{'name': 'NGUYEN, TRUNG N', 'viiolation_description': 'Respondent failed to clean, disinfect, and sterilize manicure and pedicure implements after each use.', 'violation_number': 'COS20170023893', 'license_numbers': '1196244, 767015, 767014', 'zip_code': '79106', 'country': 'POTTER', 'city': 'AMARILLO'}\n"
     ]
    }
   ],
   "source": [
    "violations = []\n",
    "\n",
    "for row in rows[1:10]:\n",
    "    print('-----------')\n",
    "    \n",
    "    dictio = {}\n",
    "    \n",
    "    name = row.find_elements_by_class_name('results_text')\n",
    "    dictio['name'] = name[0].text\n",
    "    \n",
    "    violation_description = row.find_elements_by_tag_name('td')\n",
    "    dictio['viiolation_description'] = violation_description[2].text\n",
    "    \n",
    "    info = row.find_elements_by_class_name('results_text')\n",
    "    \n",
    "    violation_number = info[-2]\n",
    "    dictio['violation_number'] = violation_number.text\n",
    "    \n",
    "    license_numbers = info[4]\n",
    "    dictio['license_numbers'] = license_numbers.text\n",
    "    \n",
    "    zip_code = info[3]\n",
    "    dictio['zip_code'] = zip_code.text\n",
    "    \n",
    "    country = info[2]\n",
    "    dictio['country'] = country.text \n",
    "    \n",
    "    city = info[1]\n",
    "    dictio['city'] = city.text \n",
    "    \n",
    "    print(dictio)\n",
    "    violations.append(dictio)"
   ]
  },
  {
   "cell_type": "markdown",
   "metadata": {},
   "source": [
    "### Save that to a CSV\n",
    "\n",
    "- Tip: You'll want to use pandas here"
   ]
  },
  {
   "cell_type": "code",
   "execution_count": 16,
   "metadata": {},
   "outputs": [
    {
     "data": {
      "text/html": [
       "<div>\n",
       "<style scoped>\n",
       "    .dataframe tbody tr th:only-of-type {\n",
       "        vertical-align: middle;\n",
       "    }\n",
       "\n",
       "    .dataframe tbody tr th {\n",
       "        vertical-align: top;\n",
       "    }\n",
       "\n",
       "    .dataframe thead th {\n",
       "        text-align: right;\n",
       "    }\n",
       "</style>\n",
       "<table border=\"1\" class=\"dataframe\">\n",
       "  <thead>\n",
       "    <tr style=\"text-align: right;\">\n",
       "      <th></th>\n",
       "      <th>city</th>\n",
       "      <th>country</th>\n",
       "      <th>license_numbers</th>\n",
       "      <th>name</th>\n",
       "      <th>viiolation_description</th>\n",
       "      <th>violation_number</th>\n",
       "      <th>zip_code</th>\n",
       "    </tr>\n",
       "  </thead>\n",
       "  <tbody>\n",
       "    <tr>\n",
       "      <th>0</th>\n",
       "      <td>SAN ANTONIO</td>\n",
       "      <td>BEXAR</td>\n",
       "      <td>780948, 1706491, 1699123</td>\n",
       "      <td>NGUYEN, TOAN HUU</td>\n",
       "      <td>Respondent failed to clean and sanitize whirlp...</td>\n",
       "      <td>COS20180004289</td>\n",
       "      <td>78217</td>\n",
       "    </tr>\n",
       "    <tr>\n",
       "      <th>1</th>\n",
       "      <td>EL PASO</td>\n",
       "      <td>EL PASO</td>\n",
       "      <td>737708</td>\n",
       "      <td>NGUYEN, HANH CONG</td>\n",
       "      <td>Respondent failed to clean and sanitize whirlp...</td>\n",
       "      <td>COS20180006594</td>\n",
       "      <td>79934</td>\n",
       "    </tr>\n",
       "    <tr>\n",
       "      <th>2</th>\n",
       "      <td>LONGVIEW</td>\n",
       "      <td>GREGG</td>\n",
       "      <td>731665</td>\n",
       "      <td>NGUYEN, KHIEM VAN</td>\n",
       "      <td>Respondent failed to follow whirlpool foot spa...</td>\n",
       "      <td>COS20180000257</td>\n",
       "      <td>75604</td>\n",
       "    </tr>\n",
       "    <tr>\n",
       "      <th>3</th>\n",
       "      <td>HOUSTON</td>\n",
       "      <td>HARRIS</td>\n",
       "      <td>1347649, 760528</td>\n",
       "      <td>NGUYEN, DIEP THI NGOC</td>\n",
       "      <td>Respondent failed to disinfect tools, implemen...</td>\n",
       "      <td>COS20180004915</td>\n",
       "      <td>77014</td>\n",
       "    </tr>\n",
       "    <tr>\n",
       "      <th>4</th>\n",
       "      <td>SAN ANTONIO</td>\n",
       "      <td>BEXAR</td>\n",
       "      <td>NGUYEN, SAMLOI</td>\n",
       "      <td>NGUYEN, LAN T-THUY</td>\n",
       "      <td>Respondent failed to clean, disinfect, and ste...</td>\n",
       "      <td>COS20180009255</td>\n",
       "      <td>78255</td>\n",
       "    </tr>\n",
       "    <tr>\n",
       "      <th>5</th>\n",
       "      <td>AUSTIN</td>\n",
       "      <td>TRAVIS</td>\n",
       "      <td>NGUYEN, TUAN VAN</td>\n",
       "      <td>NGUYEN, TUAN A</td>\n",
       "      <td>Respondent failed to clean and disinfect all w...</td>\n",
       "      <td>COS20140018343</td>\n",
       "      <td>78723</td>\n",
       "    </tr>\n",
       "    <tr>\n",
       "      <th>6</th>\n",
       "      <td>EULESS</td>\n",
       "      <td>TARRANT</td>\n",
       "      <td>721373, 1142884</td>\n",
       "      <td>NGUYEN, THAO B</td>\n",
       "      <td>Respondent failed to clean and sanitize whirlp...</td>\n",
       "      <td>COS20180008846</td>\n",
       "      <td>76039</td>\n",
       "    </tr>\n",
       "    <tr>\n",
       "      <th>7</th>\n",
       "      <td>HOUSTON</td>\n",
       "      <td>HARRIS</td>\n",
       "      <td>1470271</td>\n",
       "      <td>NGUYEN, BETH MARIA</td>\n",
       "      <td>The Respondent's license was revoked upon Resp...</td>\n",
       "      <td>COS20180000897</td>\n",
       "      <td>77083</td>\n",
       "    </tr>\n",
       "    <tr>\n",
       "      <th>8</th>\n",
       "      <td>AMARILLO</td>\n",
       "      <td>POTTER</td>\n",
       "      <td>1196244, 767015, 767014</td>\n",
       "      <td>NGUYEN, TRUNG N</td>\n",
       "      <td>Respondent failed to clean, disinfect, and ste...</td>\n",
       "      <td>COS20170023893</td>\n",
       "      <td>79106</td>\n",
       "    </tr>\n",
       "  </tbody>\n",
       "</table>\n",
       "</div>"
      ],
      "text/plain": [
       "          city  country           license_numbers                   name  \\\n",
       "0  SAN ANTONIO    BEXAR  780948, 1706491, 1699123       NGUYEN, TOAN HUU   \n",
       "1      EL PASO  EL PASO                    737708      NGUYEN, HANH CONG   \n",
       "2     LONGVIEW    GREGG                    731665      NGUYEN, KHIEM VAN   \n",
       "3      HOUSTON   HARRIS           1347649, 760528  NGUYEN, DIEP THI NGOC   \n",
       "4  SAN ANTONIO    BEXAR            NGUYEN, SAMLOI     NGUYEN, LAN T-THUY   \n",
       "5       AUSTIN   TRAVIS          NGUYEN, TUAN VAN         NGUYEN, TUAN A   \n",
       "6       EULESS  TARRANT           721373, 1142884         NGUYEN, THAO B   \n",
       "7      HOUSTON   HARRIS                   1470271     NGUYEN, BETH MARIA   \n",
       "8     AMARILLO   POTTER   1196244, 767015, 767014        NGUYEN, TRUNG N   \n",
       "\n",
       "                              viiolation_description violation_number zip_code  \n",
       "0  Respondent failed to clean and sanitize whirlp...   COS20180004289    78217  \n",
       "1  Respondent failed to clean and sanitize whirlp...   COS20180006594    79934  \n",
       "2  Respondent failed to follow whirlpool foot spa...   COS20180000257    75604  \n",
       "3  Respondent failed to disinfect tools, implemen...   COS20180004915    77014  \n",
       "4  Respondent failed to clean, disinfect, and ste...   COS20180009255    78255  \n",
       "5  Respondent failed to clean and disinfect all w...   COS20140018343    78723  \n",
       "6  Respondent failed to clean and sanitize whirlp...   COS20180008846    76039  \n",
       "7  The Respondent's license was revoked upon Resp...   COS20180000897    77083  \n",
       "8  Respondent failed to clean, disinfect, and ste...   COS20170023893    79106  "
      ]
     },
     "execution_count": 16,
     "metadata": {},
     "output_type": "execute_result"
    }
   ],
   "source": [
    "df = pd.DataFrame(violations)\n",
    "df.head(10)\n",
    "df"
   ]
  },
  {
   "cell_type": "code",
   "execution_count": 17,
   "metadata": {},
   "outputs": [],
   "source": [
    "df.to_csv(\"violations.csv\", index=False)"
   ]
  },
  {
   "cell_type": "code",
   "execution_count": null,
   "metadata": {},
   "outputs": [],
   "source": []
  },
  {
   "cell_type": "markdown",
   "metadata": {},
   "source": [
    "### Open the CSV file and examine the first few. Make sure you didn't save an extra weird unnamed column."
   ]
  },
  {
   "cell_type": "code",
   "execution_count": 18,
   "metadata": {},
   "outputs": [
    {
     "data": {
      "text/html": [
       "<div>\n",
       "<style scoped>\n",
       "    .dataframe tbody tr th:only-of-type {\n",
       "        vertical-align: middle;\n",
       "    }\n",
       "\n",
       "    .dataframe tbody tr th {\n",
       "        vertical-align: top;\n",
       "    }\n",
       "\n",
       "    .dataframe thead th {\n",
       "        text-align: right;\n",
       "    }\n",
       "</style>\n",
       "<table border=\"1\" class=\"dataframe\">\n",
       "  <thead>\n",
       "    <tr style=\"text-align: right;\">\n",
       "      <th></th>\n",
       "      <th>city</th>\n",
       "      <th>country</th>\n",
       "      <th>license_numbers</th>\n",
       "      <th>name</th>\n",
       "      <th>viiolation_description</th>\n",
       "      <th>violation_number</th>\n",
       "      <th>zip_code</th>\n",
       "    </tr>\n",
       "  </thead>\n",
       "  <tbody>\n",
       "    <tr>\n",
       "      <th>0</th>\n",
       "      <td>SAN ANTONIO</td>\n",
       "      <td>BEXAR</td>\n",
       "      <td>780948, 1706491, 1699123</td>\n",
       "      <td>NGUYEN, TOAN HUU</td>\n",
       "      <td>Respondent failed to clean and sanitize whirlp...</td>\n",
       "      <td>COS20180004289</td>\n",
       "      <td>78217</td>\n",
       "    </tr>\n",
       "    <tr>\n",
       "      <th>1</th>\n",
       "      <td>EL PASO</td>\n",
       "      <td>EL PASO</td>\n",
       "      <td>737708</td>\n",
       "      <td>NGUYEN, HANH CONG</td>\n",
       "      <td>Respondent failed to clean and sanitize whirlp...</td>\n",
       "      <td>COS20180006594</td>\n",
       "      <td>79934</td>\n",
       "    </tr>\n",
       "    <tr>\n",
       "      <th>2</th>\n",
       "      <td>LONGVIEW</td>\n",
       "      <td>GREGG</td>\n",
       "      <td>731665</td>\n",
       "      <td>NGUYEN, KHIEM VAN</td>\n",
       "      <td>Respondent failed to follow whirlpool foot spa...</td>\n",
       "      <td>COS20180000257</td>\n",
       "      <td>75604</td>\n",
       "    </tr>\n",
       "  </tbody>\n",
       "</table>\n",
       "</div>"
      ],
      "text/plain": [
       "          city  country           license_numbers               name  \\\n",
       "0  SAN ANTONIO    BEXAR  780948, 1706491, 1699123   NGUYEN, TOAN HUU   \n",
       "1      EL PASO  EL PASO                    737708  NGUYEN, HANH CONG   \n",
       "2     LONGVIEW    GREGG                    731665  NGUYEN, KHIEM VAN   \n",
       "\n",
       "                              viiolation_description violation_number  \\\n",
       "0  Respondent failed to clean and sanitize whirlp...   COS20180004289   \n",
       "1  Respondent failed to clean and sanitize whirlp...   COS20180006594   \n",
       "2  Respondent failed to follow whirlpool foot spa...   COS20180000257   \n",
       "\n",
       "   zip_code  \n",
       "0     78217  \n",
       "1     79934  \n",
       "2     75604  "
      ]
     },
     "execution_count": 18,
     "metadata": {},
     "output_type": "execute_result"
    }
   ],
   "source": [
    "pd.read_csv('violations.csv')\n",
    "df = pd.read_csv('violations.csv')\n",
    "df.head(3)"
   ]
  },
  {
   "cell_type": "code",
   "execution_count": null,
   "metadata": {},
   "outputs": [],
   "source": []
  },
  {
   "cell_type": "code",
   "execution_count": null,
   "metadata": {},
   "outputs": [],
   "source": []
  }
 ],
 "metadata": {
  "kernelspec": {
   "display_name": "Python 3",
   "language": "python",
   "name": "python3"
  },
  "language_info": {
   "codemirror_mode": {
    "name": "ipython",
    "version": 3
   },
   "file_extension": ".py",
   "mimetype": "text/x-python",
   "name": "python",
   "nbconvert_exporter": "python",
   "pygments_lexer": "ipython3",
   "version": "3.6.5"
  }
 },
 "nbformat": 4,
 "nbformat_minor": 2
}
