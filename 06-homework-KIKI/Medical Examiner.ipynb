{
 "cells": [
  {
   "cell_type": "markdown",
   "metadata": {},
   "source": [
    "# Medical Examiner Case Archives\n",
    "\n",
    "Cook County (Chicago) medical examiner records, taken from [here](https://datacatalog.cookcountyil.gov/Public-Safety/Medical-Examiner-Case-Archive/cjeq-bs86) after discovery via [Data is Plural](https://tinyletter.com/data-is-plural)."
   ]
  },
  {
   "cell_type": "markdown",
   "metadata": {},
   "source": [
    "## Do your importing/setup"
   ]
  },
  {
   "cell_type": "code",
   "execution_count": 1,
   "metadata": {},
   "outputs": [],
   "source": [
    "import pandas as pd\n",
    "import matplotlib\n",
    "%matplotlib inline"
   ]
  },
  {
   "cell_type": "markdown",
   "metadata": {},
   "source": [
    "## Read in the data, check its row count and column types"
   ]
  },
  {
   "cell_type": "code",
   "execution_count": 4,
   "metadata": {},
   "outputs": [
    {
     "data": {
      "text/html": [
       "<div>\n",
       "<style scoped>\n",
       "    .dataframe tbody tr th:only-of-type {\n",
       "        vertical-align: middle;\n",
       "    }\n",
       "\n",
       "    .dataframe tbody tr th {\n",
       "        vertical-align: top;\n",
       "    }\n",
       "\n",
       "    .dataframe thead th {\n",
       "        text-align: right;\n",
       "    }\n",
       "</style>\n",
       "<table border=\"1\" class=\"dataframe\">\n",
       "  <thead>\n",
       "    <tr style=\"text-align: right;\">\n",
       "      <th></th>\n",
       "      <th>Case Number</th>\n",
       "      <th>Date of Incident</th>\n",
       "      <th>Date of Death</th>\n",
       "      <th>Age</th>\n",
       "      <th>Gender</th>\n",
       "      <th>Race</th>\n",
       "      <th>Latino</th>\n",
       "      <th>Manner of Death</th>\n",
       "      <th>Primary Cause</th>\n",
       "      <th>Primary Cause Line B</th>\n",
       "      <th>Primary Cause Line C</th>\n",
       "      <th>Secondary Cause</th>\n",
       "      <th>Gun Related</th>\n",
       "      <th>Opioid Related</th>\n",
       "      <th>Incident Address</th>\n",
       "      <th>Incident City</th>\n",
       "      <th>longitude</th>\n",
       "      <th>latitude</th>\n",
       "      <th>OBJECTID</th>\n",
       "      <th>location</th>\n",
       "    </tr>\n",
       "  </thead>\n",
       "  <tbody>\n",
       "    <tr>\n",
       "      <th>0</th>\n",
       "      <td>ME2017-04255</td>\n",
       "      <td>09/10/2017 08:28:00 PM</td>\n",
       "      <td>09/10/2017 08:51:00 PM</td>\n",
       "      <td>51.0</td>\n",
       "      <td>1</td>\n",
       "      <td>5</td>\n",
       "      <td>False</td>\n",
       "      <td>NaN</td>\n",
       "      <td>NaN</td>\n",
       "      <td>NaN</td>\n",
       "      <td>NaN</td>\n",
       "      <td>NaN</td>\n",
       "      <td>NaN</td>\n",
       "      <td>NaN</td>\n",
       "      <td>NaN</td>\n",
       "      <td>NaN</td>\n",
       "      <td>NaN</td>\n",
       "      <td>NaN</td>\n",
       "      <td>20468</td>\n",
       "      <td>NaN</td>\n",
       "    </tr>\n",
       "    <tr>\n",
       "      <th>1</th>\n",
       "      <td>ME2018-02149</td>\n",
       "      <td>05/05/2018 06:30:00 AM</td>\n",
       "      <td>05/05/2018 06:41:00 AM</td>\n",
       "      <td>65.0</td>\n",
       "      <td>1</td>\n",
       "      <td>5</td>\n",
       "      <td>False</td>\n",
       "      <td>NaN</td>\n",
       "      <td>NaN</td>\n",
       "      <td>NaN</td>\n",
       "      <td>NaN</td>\n",
       "      <td>NaN</td>\n",
       "      <td>NaN</td>\n",
       "      <td>NaN</td>\n",
       "      <td>2110 W. 21ST PL #1</td>\n",
       "      <td>CHICAGO</td>\n",
       "      <td>-87.678845</td>\n",
       "      <td>41.853279</td>\n",
       "      <td>77827</td>\n",
       "      <td>(41.8532787, -87.6788449)</td>\n",
       "    </tr>\n",
       "    <tr>\n",
       "      <th>2</th>\n",
       "      <td>ME2018-02154</td>\n",
       "      <td>04/26/2018 08:29:00 AM</td>\n",
       "      <td>05/05/2018 04:45:00 AM</td>\n",
       "      <td>95.0</td>\n",
       "      <td>1</td>\n",
       "      <td>5</td>\n",
       "      <td>False</td>\n",
       "      <td>NaN</td>\n",
       "      <td>NaN</td>\n",
       "      <td>NaN</td>\n",
       "      <td>NaN</td>\n",
       "      <td>NaN</td>\n",
       "      <td>NaN</td>\n",
       "      <td>NaN</td>\n",
       "      <td>20704 S Woodlawn Ct</td>\n",
       "      <td>FRANKFORT</td>\n",
       "      <td>NaN</td>\n",
       "      <td>NaN</td>\n",
       "      <td>77839</td>\n",
       "      <td>NaN</td>\n",
       "    </tr>\n",
       "    <tr>\n",
       "      <th>3</th>\n",
       "      <td>ME2018-02156</td>\n",
       "      <td>05/05/2018 12:00:00 PM</td>\n",
       "      <td>05/05/2018 12:25:00 PM</td>\n",
       "      <td>64.0</td>\n",
       "      <td>0</td>\n",
       "      <td>5</td>\n",
       "      <td>False</td>\n",
       "      <td>NaN</td>\n",
       "      <td>NaN</td>\n",
       "      <td>NaN</td>\n",
       "      <td>NaN</td>\n",
       "      <td>NaN</td>\n",
       "      <td>NaN</td>\n",
       "      <td>NaN</td>\n",
       "      <td>4008 W. BERTEAU AVENUE,  APT #1</td>\n",
       "      <td>CHICAGO</td>\n",
       "      <td>-87.728177</td>\n",
       "      <td>41.957468</td>\n",
       "      <td>77823</td>\n",
       "      <td>(41.9574677, -87.7281769)</td>\n",
       "    </tr>\n",
       "    <tr>\n",
       "      <th>4</th>\n",
       "      <td>ME2018-02158</td>\n",
       "      <td>05/05/2018 09:30:00 AM</td>\n",
       "      <td>05/05/2018 09:50:00 AM</td>\n",
       "      <td>61.0</td>\n",
       "      <td>1</td>\n",
       "      <td>2</td>\n",
       "      <td>False</td>\n",
       "      <td>NaN</td>\n",
       "      <td>NaN</td>\n",
       "      <td>NaN</td>\n",
       "      <td>NaN</td>\n",
       "      <td>NaN</td>\n",
       "      <td>NaN</td>\n",
       "      <td>NaN</td>\n",
       "      <td>3947 W. LEXINGTON STREET</td>\n",
       "      <td>CHICAGO</td>\n",
       "      <td>-87.724739</td>\n",
       "      <td>41.871451</td>\n",
       "      <td>77822</td>\n",
       "      <td>(41.8714515, -87.7247386)</td>\n",
       "    </tr>\n",
       "  </tbody>\n",
       "</table>\n",
       "</div>"
      ],
      "text/plain": [
       "    Case Number        Date of Incident           Date of Death   Age  Gender  \\\n",
       "0  ME2017-04255  09/10/2017 08:28:00 PM  09/10/2017 08:51:00 PM  51.0       1   \n",
       "1  ME2018-02149  05/05/2018 06:30:00 AM  05/05/2018 06:41:00 AM  65.0       1   \n",
       "2  ME2018-02154  04/26/2018 08:29:00 AM  05/05/2018 04:45:00 AM  95.0       1   \n",
       "3  ME2018-02156  05/05/2018 12:00:00 PM  05/05/2018 12:25:00 PM  64.0       0   \n",
       "4  ME2018-02158  05/05/2018 09:30:00 AM  05/05/2018 09:50:00 AM  61.0       1   \n",
       "\n",
       "   Race  Latino Manner of Death Primary Cause Primary Cause Line B  \\\n",
       "0     5   False             NaN           NaN                  NaN   \n",
       "1     5   False             NaN           NaN                  NaN   \n",
       "2     5   False             NaN           NaN                  NaN   \n",
       "3     5   False             NaN           NaN                  NaN   \n",
       "4     2   False             NaN           NaN                  NaN   \n",
       "\n",
       "  Primary Cause Line C Secondary Cause Gun Related Opioid Related  \\\n",
       "0                  NaN             NaN         NaN            NaN   \n",
       "1                  NaN             NaN         NaN            NaN   \n",
       "2                  NaN             NaN         NaN            NaN   \n",
       "3                  NaN             NaN         NaN            NaN   \n",
       "4                  NaN             NaN         NaN            NaN   \n",
       "\n",
       "                  Incident Address Incident City  longitude   latitude  \\\n",
       "0                              NaN           NaN        NaN        NaN   \n",
       "1               2110 W. 21ST PL #1       CHICAGO -87.678845  41.853279   \n",
       "2              20704 S Woodlawn Ct     FRANKFORT        NaN        NaN   \n",
       "3  4008 W. BERTEAU AVENUE,  APT #1       CHICAGO -87.728177  41.957468   \n",
       "4         3947 W. LEXINGTON STREET       CHICAGO -87.724739  41.871451   \n",
       "\n",
       "   OBJECTID                   location  \n",
       "0     20468                        NaN  \n",
       "1     77827  (41.8532787, -87.6788449)  \n",
       "2     77839                        NaN  \n",
       "3     77823  (41.9574677, -87.7281769)  \n",
       "4     77822  (41.8714515, -87.7247386)  "
      ]
     },
     "execution_count": 4,
     "metadata": {},
     "output_type": "execute_result"
    }
   ],
   "source": [
    "df = pd.read_csv('case-archive-encoded.csv')\n",
    "df.head()"
   ]
  },
  {
   "cell_type": "code",
   "execution_count": 6,
   "metadata": {},
   "outputs": [
    {
     "data": {
      "text/plain": [
       "(22634, 20)"
      ]
     },
     "execution_count": 6,
     "metadata": {},
     "output_type": "execute_result"
    }
   ],
   "source": [
    "df.shape"
   ]
  },
  {
   "cell_type": "code",
   "execution_count": 5,
   "metadata": {},
   "outputs": [
    {
     "data": {
      "text/plain": [
       "Case Number              object\n",
       "Date of Incident         object\n",
       "Date of Death            object\n",
       "Age                     float64\n",
       "Gender                    int64\n",
       "Race                      int64\n",
       "Latino                     bool\n",
       "Manner of Death          object\n",
       "Primary Cause            object\n",
       "Primary Cause Line B     object\n",
       "Primary Cause Line C     object\n",
       "Secondary Cause          object\n",
       "Gun Related              object\n",
       "Opioid Related           object\n",
       "Incident Address         object\n",
       "Incident City            object\n",
       "longitude               float64\n",
       "latitude                float64\n",
       "OBJECTID                  int64\n",
       "location                 object\n",
       "dtype: object"
      ]
     },
     "execution_count": 5,
     "metadata": {},
     "output_type": "execute_result"
    }
   ],
   "source": [
    "df.dtypes"
   ]
  },
  {
   "cell_type": "code",
   "execution_count": null,
   "metadata": {},
   "outputs": [],
   "source": []
  },
  {
   "cell_type": "markdown",
   "metadata": {},
   "source": [
    "## Cleaning up your data\n",
    "\n",
    "First you'll want to convert the `Race` and `Gender` columns from codes into actual text to make analysis easier.\n",
    "\n",
    "### Gender codes\n",
    "\n",
    "* `-1` - `Data missing`\n",
    "* `0` - `Female`\n",
    "* `1` - `Male`\n",
    "* `2` - `Unknown`\n",
    "\n",
    "### Race codes\n",
    "\n",
    "* `-1` - `Data missing`\n",
    "* `0` - `American Indian`\n",
    "* `1` - `Asian`\n",
    "* `2` - `Black`\n",
    "* `3` - `Other`\n",
    "* `4` - `Unknown`\n",
    "* `5` - `White`"
   ]
  },
  {
   "cell_type": "code",
   "execution_count": 12,
   "metadata": {},
   "outputs": [],
   "source": [
    "#df.Gender.value_counts().head()"
   ]
  },
  {
   "cell_type": "code",
   "execution_count": 13,
   "metadata": {},
   "outputs": [
    {
     "data": {
      "text/plain": [
       "Asian              16158\n",
       "American Indian     6363\n",
       "Data missing         101\n",
       "Black                 12\n",
       "Name: Gender, dtype: int64"
      ]
     },
     "execution_count": 13,
     "metadata": {},
     "output_type": "execute_result"
    }
   ],
   "source": [
    "df.G.replace(-1, \"Data missing\",inplace = True)\n",
    "df.Gender.replace(0, \"American Indian\",inplace = True)\n",
    "df.Gender.replace(1, \"Asian\",inplace = True)\n",
    "df.Gender.replace(2, \"Black\",inplace = True)\n",
    "df.Gender.replace(3,'Other',inplace = True)\n",
    "df.Gender.replace(4, 'Unknown', inplace = True)\n",
    "df.Gender.replace(5, 'White', inplace = True)\n",
    "df.Gender.value_counts().head()"
   ]
  },
  {
   "cell_type": "code",
   "execution_count": 14,
   "metadata": {},
   "outputs": [
    {
     "data": {
      "text/plain": [
       " 5    12490\n",
       " 2     9366\n",
       " 1      342\n",
       " 3      269\n",
       "-1      124\n",
       "Name: Race, dtype: int64"
      ]
     },
     "execution_count": 14,
     "metadata": {},
     "output_type": "execute_result"
    }
   ],
   "source": [
    "df.Race.value_counts().head()"
   ]
  },
  {
   "cell_type": "code",
   "execution_count": null,
   "metadata": {},
   "outputs": [],
   "source": []
  },
  {
   "cell_type": "markdown",
   "metadata": {},
   "source": [
    "## What percent of the dataset is men, and what percent is women?\n",
    "\n",
    "It should display as **Male** and **Female**, not as numbers."
   ]
  },
  {
   "cell_type": "code",
   "execution_count": null,
   "metadata": {},
   "outputs": [],
   "source": []
  },
  {
   "cell_type": "markdown",
   "metadata": {},
   "source": [
    "## Getting rid of \"Data missing\"\n",
    "\n",
    "`Unknown` means that officially the gender or race is unknown, while `Data missing` means the record is incomplete. That means \"Data missing\" should have been `NaN`!\n",
    "\n",
    "Go back to your `read_csv` many cells before and make it so that \"Data missing\" is automatically set as `NaN`.\n",
    "\n",
    "- *Tip: Do not use `.replace` for this one!*\n",
    "- *Tip: Look at the options for `read_csv`, there's something that lets you specify missing values*\n",
    "- *Tip: It isn't `\"Data missing\"` - think about how you already replaced*\n",
    "- *Tip: Be sure you're using an array when you tell it what the 'missing' options are*\n",
    "\n",
    "### After you've done this, re-run all of the the previous cells and confirm that `\"Data missing\"` does not exist any more"
   ]
  },
  {
   "cell_type": "markdown",
   "metadata": {},
   "source": [
    "## What is the most common race in the dataset? We want percentages.\n",
    "\n",
    "We'll come back to this later, I'm just having you check the column for now."
   ]
  },
  {
   "cell_type": "code",
   "execution_count": null,
   "metadata": {},
   "outputs": [],
   "source": []
  },
  {
   "cell_type": "markdown",
   "metadata": {},
   "source": [
    "## Do a `.value_counts()` on the `Opioid Related` column"
   ]
  },
  {
   "cell_type": "code",
   "execution_count": null,
   "metadata": {},
   "outputs": [],
   "source": []
  },
  {
   "cell_type": "markdown",
   "metadata": {},
   "source": [
    "## That's weird. Did everyone die from opioids? Try again, but including missing data."
   ]
  },
  {
   "cell_type": "code",
   "execution_count": null,
   "metadata": {},
   "outputs": [],
   "source": []
  },
  {
   "cell_type": "markdown",
   "metadata": {},
   "source": [
    "## Cleaning up True/False columns\n",
    "\n",
    "For some reason in this dataset, the True/False columns are either `True` or `NaN`. `NaN` causes a lot of problems, I'd rather have it be false.\n",
    "\n",
    "You can use [`fillna`](http://pandas.pydata.org/pandas-docs/version/0.22/generated/pandas.DataFrame.fillna.html) to fill in empty data - it's like `.replace` but for `NaN`.\n",
    "\n",
    "### Replace all `NaN` values with `False` for the \"Gun Related\" and \"Opioid Related\" columns."
   ]
  },
  {
   "cell_type": "code",
   "execution_count": null,
   "metadata": {},
   "outputs": [],
   "source": []
  },
  {
   "cell_type": "markdown",
   "metadata": {},
   "source": [
    "### Do another value counts on Opioid Related to make sure it has both True and False values"
   ]
  },
  {
   "cell_type": "code",
   "execution_count": null,
   "metadata": {},
   "outputs": [],
   "source": []
  },
  {
   "cell_type": "markdown",
   "metadata": {},
   "source": [
    "# Back to analysis!"
   ]
  },
  {
   "cell_type": "markdown",
   "metadata": {},
   "source": [
    "## What's the average age people were when they died?"
   ]
  },
  {
   "cell_type": "code",
   "execution_count": null,
   "metadata": {},
   "outputs": [],
   "source": []
  },
  {
   "cell_type": "markdown",
   "metadata": {},
   "source": [
    "## Let's look at how the oldest people died\n",
    "\n",
    "We're just going to browse. Read through how the **oldest 30 people died.**"
   ]
  },
  {
   "cell_type": "code",
   "execution_count": null,
   "metadata": {},
   "outputs": [],
   "source": []
  },
  {
   "cell_type": "markdown",
   "metadata": {},
   "source": [
    "## Seems like a lot of problems with fractures\n",
    "\n",
    "### What's the median age of someone dying from a cause that involves a fracture?\n",
    "\n",
    "Are fractures especially dangerous for the elderly?\n",
    "\n",
    "- *Tip: Filter for a cause that involves a fracture, then take the median age*\n",
    "- *Tip: If you get a \"cannot index NA values\" error, the problem is it's trying to search `NaN` values and doesn't know what to do with them. You need to tell pandas to count `NaN` as false by setting another option - it isn't `NaN=False`, but it's close!*"
   ]
  },
  {
   "cell_type": "code",
   "execution_count": null,
   "metadata": {},
   "outputs": [],
   "source": []
  },
  {
   "cell_type": "markdown",
   "metadata": {},
   "source": [
    "### To get a \"compared to what?\", what's the median age of _anyone_ dying an accidental death?"
   ]
  },
  {
   "cell_type": "code",
   "execution_count": null,
   "metadata": {},
   "outputs": [],
   "source": []
  },
  {
   "cell_type": "markdown",
   "metadata": {},
   "source": [
    "### What's the median age of each manner of death?\n",
    "\n",
    "It looks like different kinds of death might happen to different ages of people. Let's investigate that further."
   ]
  },
  {
   "cell_type": "code",
   "execution_count": null,
   "metadata": {},
   "outputs": [],
   "source": []
  },
  {
   "cell_type": "markdown",
   "metadata": {},
   "source": [
    "### Who is the oldest homicide victim?\n",
    "\n",
    "It looks like homicide is for young people, so maybe we'll find an interesting outlier?"
   ]
  },
  {
   "cell_type": "code",
   "execution_count": null,
   "metadata": {},
   "outputs": [],
   "source": []
  },
  {
   "cell_type": "markdown",
   "metadata": {},
   "source": [
    "## Investigating toxicity-related homicides\n",
    "\n",
    "She was old, and was purposefully overdosed on morphine and hydrocodone. Might have been euthenasia? Let's find similar cases.\n",
    "\n",
    "### Find every homicide where the primary cause of death is some sort of toxicity\n",
    "\n",
    "Toxicity can just overdose. You should have **ten rows**.\n",
    "\n",
    "- *Tip: If you're doing this as one statement, make sure you use your parentheses correctly. If you leave them out, you'll have zero rows*\n",
    "- *Tip: You could make a homicides-only dataframe if you wanted to*"
   ]
  },
  {
   "cell_type": "code",
   "execution_count": null,
   "metadata": {},
   "outputs": [],
   "source": []
  },
  {
   "cell_type": "markdown",
   "metadata": {},
   "source": [
    "### Okay, nope, we were wrong.\n",
    "\n",
    "Those were almost **all from fires**. Apparently homicide is not the best place to go looking for toxicity. What's the most popular manner of death for primary causes involving toxicity?\n",
    "\n",
    "- *Tip: Remember that `['colname']` is the same as `.colname`. You can't do `.col with spaces` so you'll need to do `['col with spaces']` a lot in this dataset\n",
    "- *Tip: Or I guess if you really wanted to, you could rename your columns to have spaces in them (IF YOU DO THIS DON'T DO IT IN EXCEL BECAUSE IT WILL PROBABLY BREAK YOUR CSV.)*"
   ]
  },
  {
   "cell_type": "code",
   "execution_count": null,
   "metadata": {},
   "outputs": [],
   "source": []
  },
  {
   "cell_type": "markdown",
   "metadata": {},
   "source": [
    "### Okay, toxicity deaths (overdoses) are mostly accidents. Let's look at the first 30 accidental deaths involving toxicity.\n",
    "\n",
    "- *Tip: Remember your parentheses!*"
   ]
  },
  {
   "cell_type": "code",
   "execution_count": null,
   "metadata": {},
   "outputs": [],
   "source": []
  },
  {
   "cell_type": "markdown",
   "metadata": {},
   "source": [
    "## Wow, that's a lot of drug overdoses. What's more popular for overdosing: heroin, fentanyl, cocaine, or ethanol?\n",
    "\n",
    "You can count something like \"COMBINED ETHANOL, NORDIAZEPAM, AND FENTANYL TOXICITY\" under both ethanol and fentanyl.\n",
    "\n",
    "- *Tip: Search for them individually*"
   ]
  },
  {
   "cell_type": "code",
   "execution_count": null,
   "metadata": {},
   "outputs": [],
   "source": []
  },
  {
   "cell_type": "code",
   "execution_count": null,
   "metadata": {},
   "outputs": [],
   "source": []
  },
  {
   "cell_type": "code",
   "execution_count": null,
   "metadata": {},
   "outputs": [],
   "source": []
  },
  {
   "cell_type": "code",
   "execution_count": null,
   "metadata": {},
   "outputs": [],
   "source": []
  },
  {
   "cell_type": "markdown",
   "metadata": {},
   "source": [
    "# Cleaning up Primary Cause\n",
    "\n",
    "Let's stop investigating for a second and maybe clean up this \"Primary Cause\" column.\n",
    "\n",
    "## What are the most common Primary Cause of death? Include `NaN` values\n",
    "\n",
    "- *Tip: There is an option that keeps `NaN` values when counting things in a column.*"
   ]
  },
  {
   "cell_type": "code",
   "execution_count": null,
   "metadata": {},
   "outputs": [],
   "source": []
  },
  {
   "cell_type": "markdown",
   "metadata": {},
   "source": [
    "## That was horrible looking. I don't want to read through that - how many `NaN` causes of death are there?\n",
    "\n",
    "- *Tip: You can use `isnull()` to see if it's missing data, but how do you count the results?*"
   ]
  },
  {
   "cell_type": "code",
   "execution_count": null,
   "metadata": {},
   "outputs": [],
   "source": []
  },
  {
   "cell_type": "markdown",
   "metadata": {},
   "source": [
    "## Remove all rows where the primary cause of death has not been filled out.\n",
    "\n",
    "- *Tip: confirm that you have 22510 rows when you're done*"
   ]
  },
  {
   "cell_type": "code",
   "execution_count": null,
   "metadata": {},
   "outputs": [],
   "source": []
  },
  {
   "cell_type": "markdown",
   "metadata": {},
   "source": [
    "# Cardiovascular disease\n",
    "\n",
    "Cardiovascular disease (heart disease) is the number one or number two killer in America.\n",
    "\n",
    "### Filter for only rows where cardiovascular disease was a primary cause\n",
    "\n",
    "- *Tip: I hope you know how to deal with the `NaN` error message by now!*"
   ]
  },
  {
   "cell_type": "code",
   "execution_count": null,
   "metadata": {},
   "outputs": [],
   "source": []
  },
  {
   "cell_type": "markdown",
   "metadata": {},
   "source": [
    "### What are the different types?"
   ]
  },
  {
   "cell_type": "code",
   "execution_count": null,
   "metadata": {},
   "outputs": [],
   "source": []
  },
  {
   "cell_type": "markdown",
   "metadata": {},
   "source": [
    "### Replace all of those with a nice simple 'CARDIOVASCULAR DISEASE'\n",
    "\n",
    "- *Tip: you can use `.replace` or `.str.replace`, but they each involve different things! I suggest `.replace`, it looks a little cleaner in this situation*\n",
    "- *Tip: for `.replace`, you need to give it more options than usual*\n",
    "- *Tip: for `.str.replace`, it won't automatically save back into the column, you need to do that yourself*"
   ]
  },
  {
   "cell_type": "code",
   "execution_count": null,
   "metadata": {},
   "outputs": [],
   "source": []
  },
  {
   "cell_type": "markdown",
   "metadata": {},
   "source": [
    "### Check the top 5 primary causes. Cardiovascular disease should be first with about 28.4%"
   ]
  },
  {
   "cell_type": "code",
   "execution_count": null,
   "metadata": {},
   "outputs": [],
   "source": []
  },
  {
   "cell_type": "markdown",
   "metadata": {},
   "source": [
    "We could also clean up gunshots, but... let's just move on."
   ]
  },
  {
   "cell_type": "markdown",
   "metadata": {},
   "source": [
    "# The Opioid Epidemic\n",
    "\n",
    "America has a [big problem with fentanyl](https://www.theatlantic.com/health/archive/2018/05/americas-opioid-crisis-is-now-a-fentanyl-crisis/559445/) and other opioids.\n",
    "\n",
    "## Find all of the rows where fentanyl was part of the primary cause of death\n",
    "\n",
    "We don't need `na=False` any more because we *dropped the rows without primary causes*."
   ]
  },
  {
   "cell_type": "code",
   "execution_count": null,
   "metadata": {},
   "outputs": [],
   "source": []
  },
  {
   "cell_type": "markdown",
   "metadata": {},
   "source": [
    "## Fentanyl and race\n",
    "\n",
    "In the late 80's and 90's, the [crack cocaine epidemic](https://en.wikipedia.org/wiki/Crack_epidemic) swept through inner cities in the US. It was treated primarily as a crime problem, while many people say fentanyl and heroin overdoses are being treated as a medical problem due to the racial differences - the crack epidemic mainly affected Black communities, while fentanyl seems to be a problem for everyone.\n",
    "\n",
    "### How does the racial breakdown of fentanyl deaths compare to the racial breakdown of other causes of death? How about compared to causes of accidental death?"
   ]
  },
  {
   "cell_type": "code",
   "execution_count": null,
   "metadata": {},
   "outputs": [],
   "source": []
  },
  {
   "cell_type": "code",
   "execution_count": null,
   "metadata": {},
   "outputs": [],
   "source": []
  },
  {
   "cell_type": "code",
   "execution_count": null,
   "metadata": {},
   "outputs": [],
   "source": []
  },
  {
   "cell_type": "markdown",
   "metadata": {},
   "source": [
    "### Now compare it to homicides"
   ]
  },
  {
   "cell_type": "code",
   "execution_count": null,
   "metadata": {},
   "outputs": [],
   "source": []
  },
  {
   "cell_type": "markdown",
   "metadata": {},
   "source": [
    "### Now compare it to suicide"
   ]
  },
  {
   "cell_type": "code",
   "execution_count": null,
   "metadata": {},
   "outputs": [],
   "source": []
  },
  {
   "cell_type": "markdown",
   "metadata": {},
   "source": [
    "## These differences seems kind of crazy\n",
    "\n",
    "Let's look at all of these at once: I want a breakdown of the most common manners of death for **men**, based on race.\n",
    "\n",
    "Percentages, please, not raw numbers.\n",
    "\n",
    "You can look at women, too, although I think the numbers are more surprising for men."
   ]
  },
  {
   "cell_type": "code",
   "execution_count": null,
   "metadata": {},
   "outputs": [],
   "source": []
  },
  {
   "cell_type": "code",
   "execution_count": null,
   "metadata": {},
   "outputs": [],
   "source": []
  },
  {
   "cell_type": "markdown",
   "metadata": {},
   "source": [
    "## Back to drugs: what is the most popular opioid-related primary cause of death that does NOT involve fentanyl?\n",
    "\n",
    "- *Tip: Pay attention to your column names! There's one that might tell you if something is opioid-related...*\n",
    "- *Tip: Usually you can use `not` or `!` to means \"not\", but for pandas and `.isin` or `.str.contains` you need to use `~`*\n",
    "- *Tip: For \"and\" in pandas you'll need to use `&`, and make sure all of your clauses have parens around them, e.g. `df[(df.col1 = 'A') & (df.col2 = 'B')]`.*"
   ]
  },
  {
   "cell_type": "code",
   "execution_count": null,
   "metadata": {},
   "outputs": [],
   "source": []
  },
  {
   "cell_type": "markdown",
   "metadata": {},
   "source": [
    "# How do heroin and fentanyl deaths compare?\n",
    "\n",
    "## Count the number of deaths involving heroin, the number of deaths involving fentanyl, and the number of deaths involving both.\n",
    "\n",
    "- *Tip: This will take 3 different statements*\n",
    "- *Tip: You should get `813` that include both*"
   ]
  },
  {
   "cell_type": "code",
   "execution_count": null,
   "metadata": {},
   "outputs": [],
   "source": []
  },
  {
   "cell_type": "code",
   "execution_count": null,
   "metadata": {},
   "outputs": [],
   "source": []
  },
  {
   "cell_type": "code",
   "execution_count": null,
   "metadata": {},
   "outputs": [],
   "source": []
  },
  {
   "cell_type": "markdown",
   "metadata": {},
   "source": [
    "## That's weird.\n",
    "\n",
    "I heard fentanyl really surpassed heroin in the past few years. Let's see how this \n",
    "\n",
    "### Pull the year out and store it in a new column called `year`\n",
    "\n",
    "If you run `df['Date of Incident'].str.extract(\"(\\d\\d\\d\\d)\", expand=False)`, it will pull out the year of each incident. **Store this in a new column called `year`.**\n",
    "\n",
    "(It's regular expression stuff. `\\d\\d\\d\\d` means \"four numbers in a row\", and `()` + `.str.extract` means \"pull it out\".)"
   ]
  },
  {
   "cell_type": "code",
   "execution_count": null,
   "metadata": {},
   "outputs": [],
   "source": []
  },
  {
   "cell_type": "markdown",
   "metadata": {},
   "source": [
    "### What is the datatype of the new `year` column?"
   ]
  },
  {
   "cell_type": "code",
   "execution_count": null,
   "metadata": {},
   "outputs": [],
   "source": []
  },
  {
   "cell_type": "markdown",
   "metadata": {},
   "source": [
    "## Convert this new column to an integer and save it back on top of itself\n",
    "\n",
    "- *Tip: This uses is your friend `.astype`*\n",
    "- *Tip: Make sure to save it back on top of itself!*"
   ]
  },
  {
   "cell_type": "code",
   "execution_count": null,
   "metadata": {},
   "outputs": [],
   "source": []
  },
  {
   "cell_type": "markdown",
   "metadata": {},
   "source": [
    "## Confirm the column is a number"
   ]
  },
  {
   "cell_type": "code",
   "execution_count": null,
   "metadata": {},
   "outputs": [],
   "source": []
  },
  {
   "cell_type": "markdown",
   "metadata": {},
   "source": [
    "## Plot the number of opioid deaths by year\n",
    "\n",
    "If you'd like to make it look nicer, do some sorting and get rid of 2018.\n",
    "\n",
    "- *Tip: Think of it in a few steps. First, filter for opioid deaths. Then get the number of deaths for each year. Then plot it.*\n",
    "- *Tip: What's up with 2018? Why's it look so weird? Can you get rid of it? Remember to use lots of parens!*\n",
    "- *Tip: Make sure the earliest year is on the left. You might need to sort by something other than values.*"
   ]
  },
  {
   "cell_type": "code",
   "execution_count": null,
   "metadata": {},
   "outputs": [],
   "source": []
  },
  {
   "cell_type": "markdown",
   "metadata": {},
   "source": [
    "## Plot the number of fentanyl deaths by year, and the number of heroin deaths by year\n",
    "\n",
    "- *Tip: You'll want to look up how to use `ylim` - it will let you set each graphic to use the same scale. This should be separate graphics.*\n",
    "- *Tip: Pay attention to the numbers on your axes. `sort_index()` will be your friend.*\n",
    "- *Tip: You should probably get rid of 2018*"
   ]
  },
  {
   "cell_type": "code",
   "execution_count": null,
   "metadata": {},
   "outputs": [],
   "source": []
  },
  {
   "cell_type": "code",
   "execution_count": null,
   "metadata": {},
   "outputs": [],
   "source": []
  },
  {
   "cell_type": "markdown",
   "metadata": {},
   "source": [
    "## How does this compare to gun deaths?"
   ]
  },
  {
   "cell_type": "code",
   "execution_count": null,
   "metadata": {},
   "outputs": [],
   "source": []
  },
  {
   "cell_type": "markdown",
   "metadata": {},
   "source": [
    "## But hey: numbers can lie pretty easily!\n",
    "\n",
    "The numbers are just so low in 2014 and much higher in 2017. What's going on there?\n",
    "\n",
    "Well, maybe **there just isn't as much data from the earlier years**. Plot how many entries there are for each year."
   ]
  },
  {
   "cell_type": "code",
   "execution_count": null,
   "metadata": {},
   "outputs": [],
   "source": []
  },
  {
   "cell_type": "markdown",
   "metadata": {},
   "source": [
    "And we don't know the best way to fix that up yet, so instead I'm going to give you a present.\n",
    "\n",
    "# Is the true lesson here, don't move to Cook County, Illinois?\n",
    "\n",
    "Cook County is basically Chicago. It's probably just certain areas that are trouble, right? Let's investigate that without even having a clue how mapping works.\n",
    "\n",
    "## Fun bonus: Making cheating maps\n",
    "\n",
    "### Make a new dataframe of every death in the actual city of Chicago"
   ]
  },
  {
   "cell_type": "code",
   "execution_count": null,
   "metadata": {},
   "outputs": [],
   "source": []
  },
  {
   "cell_type": "markdown",
   "metadata": {},
   "source": [
    "### Confirm this new dataframe has 13,627 rows"
   ]
  },
  {
   "cell_type": "code",
   "execution_count": null,
   "metadata": {},
   "outputs": [],
   "source": []
  },
  {
   "cell_type": "markdown",
   "metadata": {},
   "source": [
    "### Use lat and long in the worst way possible to make a map\n",
    "\n",
    "Use `longitude` and `latitude` and `plot` to make a rough map of the city. Chicago [looks like this](https://en.wikipedia.org/wiki/File:DuPage_County_Illinois_Incorporated_and_Unincorporated_areas_Chicago_Highlighted.svg)\n",
    "\n",
    "- *Tip: Use the `latitude` and `longitude` columns*\n",
    "- *Tip: You don't want a line graph, of course. Or a bar. What kind is the kind with dots on it?*\n",
    "- *Tip: Use something like like `figsize=(10,5)` to specify the height and width of the map (but, you know, with better numbers that make it look like chicago)*"
   ]
  },
  {
   "cell_type": "code",
   "execution_count": null,
   "metadata": {},
   "outputs": [],
   "source": []
  },
  {
   "cell_type": "markdown",
   "metadata": {},
   "source": [
    "## Now let's find out where to live\n",
    "\n",
    "Make a map of every non-homicide death in Chicago, then plot the homicides on top of it.\n",
    "\n",
    "Use the `ax=df.plot` trick from the beer cans assignment to plot all of the rows representing homicides vs non-homicides. You can use `color='red'` to make one of them red, and `alpha=0.05` to make each mark very transparent to allow them to layer on top of each other."
   ]
  },
  {
   "cell_type": "code",
   "execution_count": null,
   "metadata": {},
   "outputs": [],
   "source": []
  },
  {
   "cell_type": "markdown",
   "metadata": {},
   "source": [
    "## Never tell anyone I let you do that.\n",
    "\n",
    "But you want to see something actually completely legitimately insane?\n",
    "\n",
    "**Chicago is one of the most segregated cities in America.** If you'd like to see this for yourself, make a map of `Race`. Plot black vs white in a way similar to what we did above."
   ]
  },
  {
   "cell_type": "code",
   "execution_count": null,
   "metadata": {},
   "outputs": [],
   "source": []
  },
  {
   "cell_type": "markdown",
   "metadata": {},
   "source": [
    "Yup."
   ]
  },
  {
   "cell_type": "code",
   "execution_count": null,
   "metadata": {},
   "outputs": [],
   "source": []
  }
 ],
 "metadata": {
  "kernelspec": {
   "display_name": "Python 3",
   "language": "python",
   "name": "python3"
  },
  "language_info": {
   "codemirror_mode": {
    "name": "ipython",
    "version": 3
   },
   "file_extension": ".py",
   "mimetype": "text/x-python",
   "name": "python",
   "nbconvert_exporter": "python",
   "pygments_lexer": "ipython3",
   "version": "3.6.5"
  }
 },
 "nbformat": 4,
 "nbformat_minor": 2
}
