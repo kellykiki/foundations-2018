{
 "cells": [
  {
   "cell_type": "markdown",
   "metadata": {},
   "source": [
    "# Exercise: NEISS, Soma's Question Set\n",
    "\n",
    "#### Summary\n",
    "\n",
    "The [National Electronic Injury Surveillance System](https://www.cpsc.gov/Safety-Education/Safety-Guides/General-Information/National-Electronic-Injury-Surveillance-System-NEISS) is a data product produced by the US Consumer Product Safety Commission. It tracks emergency room injuries related to consumer products (e.g., \"a door fell on me!\").\n",
    "\n",
    "#### Files\n",
    "\n",
    "- **neiss2017.tsv**: injury data (one injury per row)\n",
    "- **2018-NEISS-CPSC-only-CodingManual.pdf**: column definitions and explanations\n",
    "- **2017 NEISS Data Highlights.pdf**: a partial summary of the data\n",
    "- **2018ComparabilityTable.pdf**: product code definitions\n",
    "- **categories-cleaned.txt**: product code definitions in CSV format (great for joining!)\n",
    "\n",
    "#### Source\n",
    "\n",
    "https://www.cpsc.gov/Safety-Education/Safety-Guides/General-Information/National-Electronic-Injury-Surveillance-System-NEISS\n",
    "\n",
    "#### Skills\n",
    "\n",
    "- Reading in files\n",
    "    - Reading tab-separated files\n",
    "    - Reading in N/A values\n",
    "    - Only reading in some of the data\n",
    "- Replacing values\n",
    "- Using strings\n",
    "    - Searching for strings\n",
    "    - Comparing to a list of strings\n",
    "    - Regular expressions\n",
    "- Using numpy/`np.nan`\n",
    "- Averages practice\n",
    "- Converting `.value_counts()` and similar results into DataFrames"
   ]
  },
  {
   "cell_type": "code",
   "execution_count": 1,
   "metadata": {},
   "outputs": [],
   "source": [
    "import pandas as pd"
   ]
  },
  {
   "cell_type": "code",
   "execution_count": 2,
   "metadata": {},
   "outputs": [
    {
     "name": "stderr",
     "output_type": "stream",
     "text": [
      "/Users/jonathansoma/.pyenv/versions/3.6.4/lib/python3.6/site-packages/IPython/core/interactiveshell.py:2728: DtypeWarning: Columns (0,2) have mixed types. Specify dtype option on import or set low_memory=False.\n",
      "  interactivity=interactivity, compiler=compiler, result=result)\n"
     ]
    },
    {
     "data": {
      "text/html": [
       "<div>\n",
       "<style scoped>\n",
       "    .dataframe tbody tr th:only-of-type {\n",
       "        vertical-align: middle;\n",
       "    }\n",
       "\n",
       "    .dataframe tbody tr th {\n",
       "        vertical-align: top;\n",
       "    }\n",
       "\n",
       "    .dataframe thead th {\n",
       "        text-align: right;\n",
       "    }\n",
       "</style>\n",
       "<table border=\"1\" class=\"dataframe\">\n",
       "  <thead>\n",
       "    <tr style=\"text-align: right;\">\n",
       "      <th></th>\n",
       "      <th>CPSC_Case_Number</th>\n",
       "      <th>Treatment_Date</th>\n",
       "      <th>Age</th>\n",
       "      <th>Sex</th>\n",
       "      <th>Race</th>\n",
       "      <th>Other_Race</th>\n",
       "      <th>Body_Part</th>\n",
       "      <th>Diagnosis</th>\n",
       "      <th>Other_Diagnosis</th>\n",
       "      <th>Disposition</th>\n",
       "      <th>Location</th>\n",
       "      <th>Fire_Involvement</th>\n",
       "      <th>Product_1</th>\n",
       "      <th>Product_2</th>\n",
       "      <th>Narrative_1</th>\n",
       "      <th>Narrative_2</th>\n",
       "      <th>Stratum</th>\n",
       "      <th>PSU</th>\n",
       "      <th>Weight</th>\n",
       "    </tr>\n",
       "  </thead>\n",
       "  <tbody>\n",
       "    <tr>\n",
       "      <th>0</th>\n",
       "      <td>170100733</td>\n",
       "      <td>01/01/2017</td>\n",
       "      <td>21</td>\n",
       "      <td>1</td>\n",
       "      <td>1.0</td>\n",
       "      <td>NaN</td>\n",
       "      <td>75.0</td>\n",
       "      <td>62.0</td>\n",
       "      <td>NaN</td>\n",
       "      <td>1.0</td>\n",
       "      <td>1.0</td>\n",
       "      <td>0.0</td>\n",
       "      <td>1207.0</td>\n",
       "      <td>0.0</td>\n",
       "      <td>21YOM WAS BOXING WITH FRIEND WHILE DRINKING AN...</td>\n",
       "      <td>. BAC= 93.6 DX HEAD INJURY AND ALCOHOL INTOXIC...</td>\n",
       "      <td>S</td>\n",
       "      <td>46.0</td>\n",
       "      <td>77.6641</td>\n",
       "    </tr>\n",
       "    <tr>\n",
       "      <th>1</th>\n",
       "      <td>170100734</td>\n",
       "      <td>01/01/2017</td>\n",
       "      <td>71</td>\n",
       "      <td>1</td>\n",
       "      <td>1.0</td>\n",
       "      <td>NaN</td>\n",
       "      <td>31.0</td>\n",
       "      <td>53.0</td>\n",
       "      <td>NaN</td>\n",
       "      <td>1.0</td>\n",
       "      <td>5.0</td>\n",
       "      <td>0.0</td>\n",
       "      <td>1807.0</td>\n",
       "      <td>0.0</td>\n",
       "      <td>71YOM FELL ON FLOOR IN BATHROOM. DX RIB CONTUSION</td>\n",
       "      <td>NaN</td>\n",
       "      <td>S</td>\n",
       "      <td>46.0</td>\n",
       "      <td>77.6641</td>\n",
       "    </tr>\n",
       "    <tr>\n",
       "      <th>2</th>\n",
       "      <td>170100735</td>\n",
       "      <td>01/01/2017</td>\n",
       "      <td>16</td>\n",
       "      <td>1</td>\n",
       "      <td>1.0</td>\n",
       "      <td>NaN</td>\n",
       "      <td>33.0</td>\n",
       "      <td>51.0</td>\n",
       "      <td>NaN</td>\n",
       "      <td>1.0</td>\n",
       "      <td>1.0</td>\n",
       "      <td>0.0</td>\n",
       "      <td>676.0</td>\n",
       "      <td>342.0</td>\n",
       "      <td>16YOM TRIPPED OVER A RUG AND FELL INTO A BURNI...</td>\n",
       "      <td>DX BURNS INVOLVING LESS THAN 10% OF BODY SURFA...</td>\n",
       "      <td>S</td>\n",
       "      <td>46.0</td>\n",
       "      <td>77.6641</td>\n",
       "    </tr>\n",
       "    <tr>\n",
       "      <th>3</th>\n",
       "      <td>170100737</td>\n",
       "      <td>01/01/2017</td>\n",
       "      <td>55</td>\n",
       "      <td>2</td>\n",
       "      <td>1.0</td>\n",
       "      <td>NaN</td>\n",
       "      <td>75.0</td>\n",
       "      <td>62.0</td>\n",
       "      <td>NaN</td>\n",
       "      <td>1.0</td>\n",
       "      <td>1.0</td>\n",
       "      <td>0.0</td>\n",
       "      <td>620.0</td>\n",
       "      <td>0.0</td>\n",
       "      <td>55YOF WAS STANDING ON A STEP STOOL AND LOST FO...</td>\n",
       "      <td>HEAD INJURY</td>\n",
       "      <td>S</td>\n",
       "      <td>46.0</td>\n",
       "      <td>77.6641</td>\n",
       "    </tr>\n",
       "    <tr>\n",
       "      <th>4</th>\n",
       "      <td>170100740</td>\n",
       "      <td>01/01/2017</td>\n",
       "      <td>86</td>\n",
       "      <td>2</td>\n",
       "      <td>1.0</td>\n",
       "      <td>NaN</td>\n",
       "      <td>79.0</td>\n",
       "      <td>58.0</td>\n",
       "      <td>NaN</td>\n",
       "      <td>1.0</td>\n",
       "      <td>1.0</td>\n",
       "      <td>0.0</td>\n",
       "      <td>1646.0</td>\n",
       "      <td>4056.0</td>\n",
       "      <td>86YOF GOT TANGLED IN COAT AND FELL BACKWARD ST...</td>\n",
       "      <td>H. DX HEMATOMA OF SOFT TISSUE, LEFT FLANK</td>\n",
       "      <td>S</td>\n",
       "      <td>46.0</td>\n",
       "      <td>77.6641</td>\n",
       "    </tr>\n",
       "  </tbody>\n",
       "</table>\n",
       "</div>"
      ],
      "text/plain": [
       "  CPSC_Case_Number Treatment_Date Age  Sex  Race Other_Race  Body_Part  \\\n",
       "0        170100733     01/01/2017  21    1   1.0        NaN       75.0   \n",
       "1        170100734     01/01/2017  71    1   1.0        NaN       31.0   \n",
       "2        170100735     01/01/2017  16    1   1.0        NaN       33.0   \n",
       "3        170100737     01/01/2017  55    2   1.0        NaN       75.0   \n",
       "4        170100740     01/01/2017  86    2   1.0        NaN       79.0   \n",
       "\n",
       "   Diagnosis Other_Diagnosis  Disposition  Location  Fire_Involvement  \\\n",
       "0       62.0             NaN          1.0       1.0               0.0   \n",
       "1       53.0             NaN          1.0       5.0               0.0   \n",
       "2       51.0             NaN          1.0       1.0               0.0   \n",
       "3       62.0             NaN          1.0       1.0               0.0   \n",
       "4       58.0             NaN          1.0       1.0               0.0   \n",
       "\n",
       "   Product_1  Product_2                                        Narrative_1  \\\n",
       "0     1207.0        0.0  21YOM WAS BOXING WITH FRIEND WHILE DRINKING AN...   \n",
       "1     1807.0        0.0  71YOM FELL ON FLOOR IN BATHROOM. DX RIB CONTUSION   \n",
       "2      676.0      342.0  16YOM TRIPPED OVER A RUG AND FELL INTO A BURNI...   \n",
       "3      620.0        0.0  55YOF WAS STANDING ON A STEP STOOL AND LOST FO...   \n",
       "4     1646.0     4056.0  86YOF GOT TANGLED IN COAT AND FELL BACKWARD ST...   \n",
       "\n",
       "                                         Narrative_2 Stratum   PSU   Weight  \n",
       "0  . BAC= 93.6 DX HEAD INJURY AND ALCOHOL INTOXIC...       S  46.0  77.6641  \n",
       "1                                                NaN       S  46.0  77.6641  \n",
       "2  DX BURNS INVOLVING LESS THAN 10% OF BODY SURFA...       S  46.0  77.6641  \n",
       "3                                        HEAD INJURY       S  46.0  77.6641  \n",
       "4          H. DX HEMATOMA OF SOFT TISSUE, LEFT FLANK       S  46.0  77.6641  "
      ]
     },
     "execution_count": 2,
     "metadata": {},
     "output_type": "execute_result"
    }
   ],
   "source": [
    "# Use a tab as what's separating the values\n",
    "df = pd.read_csv(\"neiss2017.tsv\", sep=\"\\t\", encoding=\"latin-1\")\n",
    "df.head()"
   ]
  },
  {
   "cell_type": "code",
   "execution_count": 3,
   "metadata": {},
   "outputs": [
    {
     "data": {
      "text/plain": [
       "CPSC_Case_Number     object\n",
       "Treatment_Date       object\n",
       "Age                  object\n",
       "Sex                   int64\n",
       "Race                float64\n",
       "Other_Race           object\n",
       "Body_Part           float64\n",
       "Diagnosis           float64\n",
       "Other_Diagnosis      object\n",
       "Disposition         float64\n",
       "Location            float64\n",
       "Fire_Involvement    float64\n",
       "Product_1           float64\n",
       "Product_2           float64\n",
       "Narrative_1          object\n",
       "Narrative_2          object\n",
       "Stratum              object\n",
       "PSU                 float64\n",
       "Weight              float64\n",
       "dtype: object"
      ]
     },
     "execution_count": 3,
     "metadata": {},
     "output_type": "execute_result"
    }
   ],
   "source": [
    "df.dtypes"
   ]
  },
  {
   "cell_type": "code",
   "execution_count": 4,
   "metadata": {},
   "outputs": [
    {
     "data": {
      "text/plain": [
       "75.0    63798\n",
       "76.0    32879\n",
       "92.0    32104\n",
       "79.0    32050\n",
       "31.0    21470\n",
       "Name: Body_Part, dtype: int64"
      ]
     },
     "execution_count": 4,
     "metadata": {},
     "output_type": "execute_result"
    }
   ],
   "source": [
    "df.Body_Part.value_counts().head()"
   ]
  },
  {
   "cell_type": "markdown",
   "metadata": {},
   "source": [
    "# Replacing data with other values\n",
    "\n",
    "You use `df.colname.replace`, and either give it the original and the replacement or a dictionary. You probably want to include `inplace=True` so that it updates the dataframe."
   ]
  },
  {
   "cell_type": "code",
   "execution_count": 5,
   "metadata": {},
   "outputs": [
    {
     "data": {
      "text/plain": [
       "0         Head\n",
       "1           31\n",
       "2           33\n",
       "3         Head\n",
       "4           79\n",
       "5           31\n",
       "6           79\n",
       "7         Head\n",
       "8           82\n",
       "9           79\n",
       "10          33\n",
       "11          35\n",
       "12          36\n",
       "13          79\n",
       "14          35\n",
       "15        Head\n",
       "16          34\n",
       "17          37\n",
       "18          93\n",
       "19          82\n",
       "20          30\n",
       "21          92\n",
       "22          79\n",
       "23          32\n",
       "24          87\n",
       "25          77\n",
       "26          34\n",
       "27          37\n",
       "28          30\n",
       "29          87\n",
       "          ... \n",
       "386877      31\n",
       "386878      79\n",
       "386879      35\n",
       "386880      81\n",
       "386881      31\n",
       "386882      35\n",
       "386883      35\n",
       "386884    Head\n",
       "386885      83\n",
       "386886      37\n",
       "386887      79\n",
       "386888      85\n",
       "386889    Head\n",
       "386890    Head\n",
       "386891    Head\n",
       "386892      85\n",
       "386893      32\n",
       "386894      85\n",
       "386895      32\n",
       "386896      85\n",
       "386897      32\n",
       "386898      83\n",
       "386899      32\n",
       "386900      81\n",
       "386901       0\n",
       "386902      85\n",
       "386903      92\n",
       "386904      81\n",
       "386905    Head\n",
       "386906      85\n",
       "Name: Body_Part, Length: 386907, dtype: object"
      ]
     },
     "execution_count": 5,
     "metadata": {},
     "output_type": "execute_result"
    }
   ],
   "source": [
    "df.Body_Part.replace(75, \"Head\")"
   ]
  },
  {
   "cell_type": "code",
   "execution_count": 6,
   "metadata": {},
   "outputs": [
    {
     "data": {
      "text/plain": [
       "0         75\n",
       "1         31\n",
       "2         33\n",
       "3         75\n",
       "4         79\n",
       "5         31\n",
       "6         79\n",
       "7         75\n",
       "8         82\n",
       "9         79\n",
       "10        33\n",
       "11        35\n",
       "12        36\n",
       "13        79\n",
       "14        35\n",
       "15        75\n",
       "16        34\n",
       "17        37\n",
       "18        93\n",
       "19        82\n",
       "20        30\n",
       "21        92\n",
       "22        79\n",
       "23        32\n",
       "24        87\n",
       "25        77\n",
       "26        34\n",
       "27        37\n",
       "28        30\n",
       "29        87\n",
       "          ..\n",
       "386877    31\n",
       "386878    79\n",
       "386879    35\n",
       "386880    81\n",
       "386881    31\n",
       "386882    35\n",
       "386883    35\n",
       "386884    75\n",
       "386885    83\n",
       "386886    37\n",
       "386887    79\n",
       "386888    85\n",
       "386889    75\n",
       "386890    75\n",
       "386891    75\n",
       "386892    85\n",
       "386893    32\n",
       "386894    85\n",
       "386895    32\n",
       "386896    85\n",
       "386897    32\n",
       "386898    83\n",
       "386899    32\n",
       "386900    81\n",
       "386901     0\n",
       "386902    85\n",
       "386903    92\n",
       "386904    81\n",
       "386905    75\n",
       "386906    85\n",
       "Name: Body_Part, Length: 386907, dtype: object"
      ]
     },
     "execution_count": 6,
     "metadata": {},
     "output_type": "execute_result"
    }
   ],
   "source": [
    "df.Body_Part.replace(94, \"Ear\")"
   ]
  },
  {
   "cell_type": "code",
   "execution_count": 7,
   "metadata": {},
   "outputs": [],
   "source": [
    "# inplace=True will almost always edit our original dataframe\n",
    "df.Body_Part.replace(75, \"Head\", inplace=True)"
   ]
  },
  {
   "cell_type": "code",
   "execution_count": 8,
   "metadata": {},
   "outputs": [
    {
     "data": {
      "text/plain": [
       "Head    63798\n",
       "76.0    32879\n",
       "92.0    32104\n",
       "79.0    32050\n",
       "31.0    21470\n",
       "Name: Body_Part, dtype: int64"
      ]
     },
     "execution_count": 8,
     "metadata": {},
     "output_type": "execute_result"
    }
   ],
   "source": [
    "df.Body_Part.value_counts().head()"
   ]
  },
  {
   "cell_type": "code",
   "execution_count": 9,
   "metadata": {},
   "outputs": [],
   "source": [
    "df.Body_Part.replace(76, \"Face\", inplace=True)"
   ]
  },
  {
   "cell_type": "code",
   "execution_count": 10,
   "metadata": {},
   "outputs": [
    {
     "data": {
      "text/plain": [
       "Head    63798\n",
       "Face    32879\n",
       "92.0    32104\n",
       "79.0    32050\n",
       "31.0    21470\n",
       "37.0    21469\n",
       "35.0    20289\n",
       "82.0    17688\n",
       "83.0    16903\n",
       "30.0    15002\n",
       "36.0    14149\n",
       "33.0    13805\n",
       "34.0    13060\n",
       "85.0    10078\n",
       "32.0     9484\n",
       "88.0     8024\n",
       "93.0     7769\n",
       "89.0     6584\n",
       "94.0     5347\n",
       "77.0     5252\n",
       "81.0     4951\n",
       "80.0     4619\n",
       "0.0      4171\n",
       "87.0     3868\n",
       "38.0     2076\n",
       "84.0       17\n",
       "Name: Body_Part, dtype: int64"
      ]
     },
     "execution_count": 10,
     "metadata": {},
     "output_type": "execute_result"
    }
   ],
   "source": [
    "df.Body_Part.value_counts()"
   ]
  },
  {
   "cell_type": "code",
   "execution_count": 11,
   "metadata": {},
   "outputs": [],
   "source": [
    "# key is original code\n",
    "# value is replacement\n",
    "df.Body_Part.replace({\n",
    "    94: \"Ear\",\n",
    "    77: \"Eyeball\",\n",
    "    88: \"Mouth\",\n",
    "    89: \"Neck\",\n",
    "    30: \"Shoulder\",\n",
    "    31: \"Upper trunk\"\n",
    "}, inplace=True)"
   ]
  },
  {
   "cell_type": "code",
   "execution_count": 12,
   "metadata": {},
   "outputs": [
    {
     "data": {
      "text/plain": [
       "Head           63798\n",
       "Face           32879\n",
       "92.0           32104\n",
       "79.0           32050\n",
       "Upper trunk    21470\n",
       "37.0           21469\n",
       "35.0           20289\n",
       "82.0           17688\n",
       "83.0           16903\n",
       "Shoulder       15002\n",
       "36.0           14149\n",
       "33.0           13805\n",
       "34.0           13060\n",
       "85.0           10078\n",
       "32.0            9484\n",
       "Mouth           8024\n",
       "93.0            7769\n",
       "Neck            6584\n",
       "Ear             5347\n",
       "Eyeball         5252\n",
       "81.0            4951\n",
       "80.0            4619\n",
       "0.0             4171\n",
       "87.0            3868\n",
       "38.0            2076\n",
       "84.0              17\n",
       "Name: Body_Part, dtype: int64"
      ]
     },
     "execution_count": 12,
     "metadata": {},
     "output_type": "execute_result"
    }
   ],
   "source": [
    "df.Body_Part.value_counts()"
   ]
  },
  {
   "cell_type": "code",
   "execution_count": 13,
   "metadata": {},
   "outputs": [
    {
     "data": {
      "text/html": [
       "<div>\n",
       "<style scoped>\n",
       "    .dataframe tbody tr th:only-of-type {\n",
       "        vertical-align: middle;\n",
       "    }\n",
       "\n",
       "    .dataframe tbody tr th {\n",
       "        vertical-align: top;\n",
       "    }\n",
       "\n",
       "    .dataframe thead th {\n",
       "        text-align: right;\n",
       "    }\n",
       "</style>\n",
       "<table border=\"1\" class=\"dataframe\">\n",
       "  <thead>\n",
       "    <tr style=\"text-align: right;\">\n",
       "      <th></th>\n",
       "      <th>CPSC_Case_Number</th>\n",
       "      <th>Treatment_Date</th>\n",
       "      <th>Age</th>\n",
       "      <th>Sex</th>\n",
       "      <th>Race</th>\n",
       "      <th>Other_Race</th>\n",
       "      <th>Body_Part</th>\n",
       "      <th>Diagnosis</th>\n",
       "      <th>Other_Diagnosis</th>\n",
       "      <th>Disposition</th>\n",
       "      <th>Location</th>\n",
       "      <th>Fire_Involvement</th>\n",
       "      <th>Product_1</th>\n",
       "      <th>Product_2</th>\n",
       "      <th>Narrative_1</th>\n",
       "      <th>Narrative_2</th>\n",
       "      <th>Stratum</th>\n",
       "      <th>PSU</th>\n",
       "      <th>Weight</th>\n",
       "    </tr>\n",
       "  </thead>\n",
       "  <tbody>\n",
       "    <tr>\n",
       "      <th>160878</th>\n",
       "      <td>;CONCUSSION</td>\n",
       "      <td>NaN</td>\n",
       "      <td>C</td>\n",
       "      <td>8</td>\n",
       "      <td>4.757</td>\n",
       "      <td>NaN</td>\n",
       "      <td>NaN</td>\n",
       "      <td>NaN</td>\n",
       "      <td>NaN</td>\n",
       "      <td>NaN</td>\n",
       "      <td>NaN</td>\n",
       "      <td>NaN</td>\n",
       "      <td>NaN</td>\n",
       "      <td>NaN</td>\n",
       "      <td>NaN</td>\n",
       "      <td>NaN</td>\n",
       "      <td>NaN</td>\n",
       "      <td>NaN</td>\n",
       "      <td>NaN</td>\n",
       "    </tr>\n",
       "  </tbody>\n",
       "</table>\n",
       "</div>"
      ],
      "text/plain": [
       "       CPSC_Case_Number Treatment_Date Age  Sex   Race Other_Race Body_Part  \\\n",
       "160878      ;CONCUSSION            NaN   C    8  4.757        NaN       NaN   \n",
       "\n",
       "        Diagnosis Other_Diagnosis  Disposition  Location  Fire_Involvement  \\\n",
       "160878        NaN             NaN          NaN       NaN               NaN   \n",
       "\n",
       "        Product_1  Product_2 Narrative_1 Narrative_2 Stratum  PSU  Weight  \n",
       "160878        NaN        NaN         NaN         NaN     NaN  NaN     NaN  "
      ]
     },
     "execution_count": 13,
     "metadata": {},
     "output_type": "execute_result"
    }
   ],
   "source": [
    "df[df.Sex == 8]"
   ]
  },
  {
   "cell_type": "markdown",
   "metadata": {},
   "source": [
    "# Finding columns with missing data"
   ]
  },
  {
   "cell_type": "code",
   "execution_count": 14,
   "metadata": {},
   "outputs": [
    {
     "data": {
      "text/html": [
       "<div>\n",
       "<style scoped>\n",
       "    .dataframe tbody tr th:only-of-type {\n",
       "        vertical-align: middle;\n",
       "    }\n",
       "\n",
       "    .dataframe tbody tr th {\n",
       "        vertical-align: top;\n",
       "    }\n",
       "\n",
       "    .dataframe thead th {\n",
       "        text-align: right;\n",
       "    }\n",
       "</style>\n",
       "<table border=\"1\" class=\"dataframe\">\n",
       "  <thead>\n",
       "    <tr style=\"text-align: right;\">\n",
       "      <th></th>\n",
       "      <th>CPSC_Case_Number</th>\n",
       "      <th>Treatment_Date</th>\n",
       "      <th>Age</th>\n",
       "      <th>Sex</th>\n",
       "      <th>Race</th>\n",
       "      <th>Other_Race</th>\n",
       "      <th>Body_Part</th>\n",
       "      <th>Diagnosis</th>\n",
       "      <th>Other_Diagnosis</th>\n",
       "      <th>Disposition</th>\n",
       "      <th>Location</th>\n",
       "      <th>Fire_Involvement</th>\n",
       "      <th>Product_1</th>\n",
       "      <th>Product_2</th>\n",
       "      <th>Narrative_1</th>\n",
       "      <th>Narrative_2</th>\n",
       "      <th>Stratum</th>\n",
       "      <th>PSU</th>\n",
       "      <th>Weight</th>\n",
       "    </tr>\n",
       "  </thead>\n",
       "  <tbody>\n",
       "  </tbody>\n",
       "</table>\n",
       "</div>"
      ],
      "text/plain": [
       "Empty DataFrame\n",
       "Columns: [CPSC_Case_Number, Treatment_Date, Age, Sex, Race, Other_Race, Body_Part, Diagnosis, Other_Diagnosis, Disposition, Location, Fire_Involvement, Product_1, Product_2, Narrative_1, Narrative_2, Stratum, PSU, Weight]\n",
       "Index: []"
      ]
     },
     "execution_count": 14,
     "metadata": {},
     "output_type": "execute_result"
    }
   ],
   "source": [
    "df[df.Treatment_Date == 'NaN']"
   ]
  },
  {
   "cell_type": "code",
   "execution_count": 15,
   "metadata": {},
   "outputs": [
    {
     "data": {
      "text/html": [
       "<div>\n",
       "<style scoped>\n",
       "    .dataframe tbody tr th:only-of-type {\n",
       "        vertical-align: middle;\n",
       "    }\n",
       "\n",
       "    .dataframe tbody tr th {\n",
       "        vertical-align: top;\n",
       "    }\n",
       "\n",
       "    .dataframe thead th {\n",
       "        text-align: right;\n",
       "    }\n",
       "</style>\n",
       "<table border=\"1\" class=\"dataframe\">\n",
       "  <thead>\n",
       "    <tr style=\"text-align: right;\">\n",
       "      <th></th>\n",
       "      <th>CPSC_Case_Number</th>\n",
       "      <th>Treatment_Date</th>\n",
       "      <th>Age</th>\n",
       "      <th>Sex</th>\n",
       "      <th>Race</th>\n",
       "      <th>Other_Race</th>\n",
       "      <th>Body_Part</th>\n",
       "      <th>Diagnosis</th>\n",
       "      <th>Other_Diagnosis</th>\n",
       "      <th>Disposition</th>\n",
       "      <th>Location</th>\n",
       "      <th>Fire_Involvement</th>\n",
       "      <th>Product_1</th>\n",
       "      <th>Product_2</th>\n",
       "      <th>Narrative_1</th>\n",
       "      <th>Narrative_2</th>\n",
       "      <th>Stratum</th>\n",
       "      <th>PSU</th>\n",
       "      <th>Weight</th>\n",
       "    </tr>\n",
       "  </thead>\n",
       "  <tbody>\n",
       "    <tr>\n",
       "      <th>160878</th>\n",
       "      <td>;CONCUSSION</td>\n",
       "      <td>NaN</td>\n",
       "      <td>C</td>\n",
       "      <td>8</td>\n",
       "      <td>4.757</td>\n",
       "      <td>NaN</td>\n",
       "      <td>NaN</td>\n",
       "      <td>NaN</td>\n",
       "      <td>NaN</td>\n",
       "      <td>NaN</td>\n",
       "      <td>NaN</td>\n",
       "      <td>NaN</td>\n",
       "      <td>NaN</td>\n",
       "      <td>NaN</td>\n",
       "      <td>NaN</td>\n",
       "      <td>NaN</td>\n",
       "      <td>NaN</td>\n",
       "      <td>NaN</td>\n",
       "      <td>NaN</td>\n",
       "    </tr>\n",
       "  </tbody>\n",
       "</table>\n",
       "</div>"
      ],
      "text/plain": [
       "       CPSC_Case_Number Treatment_Date Age  Sex   Race Other_Race Body_Part  \\\n",
       "160878      ;CONCUSSION            NaN   C    8  4.757        NaN       NaN   \n",
       "\n",
       "        Diagnosis Other_Diagnosis  Disposition  Location  Fire_Involvement  \\\n",
       "160878        NaN             NaN          NaN       NaN               NaN   \n",
       "\n",
       "        Product_1  Product_2 Narrative_1 Narrative_2 Stratum  PSU  Weight  \n",
       "160878        NaN        NaN         NaN         NaN     NaN  NaN     NaN  "
      ]
     },
     "execution_count": 15,
     "metadata": {},
     "output_type": "execute_result"
    }
   ],
   "source": [
    "# .isnull() is what you feel like should be == \"NaN\"\n",
    "df[df.Treatment_Date.isnull()]"
   ]
  },
  {
   "cell_type": "code",
   "execution_count": 16,
   "metadata": {},
   "outputs": [],
   "source": [
    "# Want the opposite? You can do this!\n",
    "# df[df.Treatment_Date.notnull()]"
   ]
  },
  {
   "cell_type": "markdown",
   "metadata": {},
   "source": [
    "# Dropping rows with missing data\n",
    "\n",
    "`dropna` takes `subset=`, which tells pandas which columns to pay attention to."
   ]
  },
  {
   "cell_type": "code",
   "execution_count": 17,
   "metadata": {},
   "outputs": [],
   "source": [
    "# Drop all rows where \"Treatment_Date\" is missing data\n",
    "df.dropna(subset=['Treatment_Date'], inplace=True)"
   ]
  },
  {
   "cell_type": "code",
   "execution_count": 18,
   "metadata": {},
   "outputs": [
    {
     "data": {
      "text/html": [
       "<div>\n",
       "<style scoped>\n",
       "    .dataframe tbody tr th:only-of-type {\n",
       "        vertical-align: middle;\n",
       "    }\n",
       "\n",
       "    .dataframe tbody tr th {\n",
       "        vertical-align: top;\n",
       "    }\n",
       "\n",
       "    .dataframe thead th {\n",
       "        text-align: right;\n",
       "    }\n",
       "</style>\n",
       "<table border=\"1\" class=\"dataframe\">\n",
       "  <thead>\n",
       "    <tr style=\"text-align: right;\">\n",
       "      <th></th>\n",
       "      <th>CPSC_Case_Number</th>\n",
       "      <th>Treatment_Date</th>\n",
       "      <th>Age</th>\n",
       "      <th>Sex</th>\n",
       "      <th>Race</th>\n",
       "      <th>Other_Race</th>\n",
       "      <th>Body_Part</th>\n",
       "      <th>Diagnosis</th>\n",
       "      <th>Other_Diagnosis</th>\n",
       "      <th>Disposition</th>\n",
       "      <th>Location</th>\n",
       "      <th>Fire_Involvement</th>\n",
       "      <th>Product_1</th>\n",
       "      <th>Product_2</th>\n",
       "      <th>Narrative_1</th>\n",
       "      <th>Narrative_2</th>\n",
       "      <th>Stratum</th>\n",
       "      <th>PSU</th>\n",
       "      <th>Weight</th>\n",
       "    </tr>\n",
       "  </thead>\n",
       "  <tbody>\n",
       "  </tbody>\n",
       "</table>\n",
       "</div>"
      ],
      "text/plain": [
       "Empty DataFrame\n",
       "Columns: [CPSC_Case_Number, Treatment_Date, Age, Sex, Race, Other_Race, Body_Part, Diagnosis, Other_Diagnosis, Disposition, Location, Fire_Involvement, Product_1, Product_2, Narrative_1, Narrative_2, Stratum, PSU, Weight]\n",
       "Index: []"
      ]
     },
     "execution_count": 18,
     "metadata": {},
     "output_type": "execute_result"
    }
   ],
   "source": [
    "df[df.Treatment_Date.isnull()]"
   ]
  },
  {
   "cell_type": "code",
   "execution_count": 19,
   "metadata": {},
   "outputs": [
    {
     "data": {
      "text/plain": [
       "1.0    160527\n",
       "0.0    143677\n",
       "2.0     55144\n",
       "3.0     21193\n",
       "4.0      4714\n",
       "5.0      1234\n",
       "6.0       417\n",
       "Name: Race, dtype: int64"
      ]
     },
     "execution_count": 19,
     "metadata": {},
     "output_type": "execute_result"
    }
   ],
   "source": [
    "df.Race.value_counts()"
   ]
  },
  {
   "cell_type": "code",
   "execution_count": 20,
   "metadata": {},
   "outputs": [
    {
     "data": {
      "text/plain": [
       "1.0    160527\n",
       "2.0     55144\n",
       "3.0     21193\n",
       "4.0      4714\n",
       "5.0      1234\n",
       "6.0       417\n",
       "Name: Race, dtype: int64"
      ]
     },
     "execution_count": 20,
     "metadata": {},
     "output_type": "execute_result"
    }
   ],
   "source": [
    "df[df.Race != 0].Race.value_counts()"
   ]
  },
  {
   "cell_type": "markdown",
   "metadata": {},
   "source": [
    "# How to replace data with `NaN`/missing data\n",
    "\n",
    "In this case, we are replacing every `0` with `NaN` (missing data)"
   ]
  },
  {
   "cell_type": "code",
   "execution_count": 21,
   "metadata": {},
   "outputs": [],
   "source": [
    "import numpy as np\n",
    "df.Race.replace(0, np.nan, inplace=True)"
   ]
  },
  {
   "cell_type": "code",
   "execution_count": 22,
   "metadata": {},
   "outputs": [
    {
     "data": {
      "text/plain": [
       "1.0    160527\n",
       "2.0     55144\n",
       "3.0     21193\n",
       "4.0      4714\n",
       "5.0      1234\n",
       "6.0       417\n",
       "Name: Race, dtype: int64"
      ]
     },
     "execution_count": 22,
     "metadata": {},
     "output_type": "execute_result"
    }
   ],
   "source": [
    "df.Race.value_counts()"
   ]
  },
  {
   "cell_type": "code",
   "execution_count": 23,
   "metadata": {},
   "outputs": [
    {
     "data": {
      "text/plain": [
       " 1.0    160527\n",
       "NaN     143677\n",
       " 2.0     55144\n",
       " 3.0     21193\n",
       " 4.0      4714\n",
       " 5.0      1234\n",
       " 6.0       417\n",
       "Name: Race, dtype: int64"
      ]
     },
     "execution_count": 23,
     "metadata": {},
     "output_type": "execute_result"
    }
   ],
   "source": [
    "df.Race.value_counts(dropna=False)"
   ]
  },
  {
   "cell_type": "markdown",
   "metadata": {},
   "source": [
    "## Searching for strings??"
   ]
  },
  {
   "cell_type": "code",
   "execution_count": 24,
   "metadata": {},
   "outputs": [],
   "source": [
    "df.Body_Part.replace(79, \"Lower trunk\", inplace=True)"
   ]
  },
  {
   "cell_type": "code",
   "execution_count": 25,
   "metadata": {},
   "outputs": [
    {
     "data": {
      "text/html": [
       "<div>\n",
       "<style scoped>\n",
       "    .dataframe tbody tr th:only-of-type {\n",
       "        vertical-align: middle;\n",
       "    }\n",
       "\n",
       "    .dataframe tbody tr th {\n",
       "        vertical-align: top;\n",
       "    }\n",
       "\n",
       "    .dataframe thead th {\n",
       "        text-align: right;\n",
       "    }\n",
       "</style>\n",
       "<table border=\"1\" class=\"dataframe\">\n",
       "  <thead>\n",
       "    <tr style=\"text-align: right;\">\n",
       "      <th></th>\n",
       "      <th>CPSC_Case_Number</th>\n",
       "      <th>Treatment_Date</th>\n",
       "      <th>Age</th>\n",
       "      <th>Sex</th>\n",
       "      <th>Race</th>\n",
       "      <th>Other_Race</th>\n",
       "      <th>Body_Part</th>\n",
       "      <th>Diagnosis</th>\n",
       "      <th>Other_Diagnosis</th>\n",
       "      <th>Disposition</th>\n",
       "      <th>Location</th>\n",
       "      <th>Fire_Involvement</th>\n",
       "      <th>Product_1</th>\n",
       "      <th>Product_2</th>\n",
       "      <th>Narrative_1</th>\n",
       "      <th>Narrative_2</th>\n",
       "      <th>Stratum</th>\n",
       "      <th>PSU</th>\n",
       "      <th>Weight</th>\n",
       "    </tr>\n",
       "  </thead>\n",
       "  <tbody>\n",
       "    <tr>\n",
       "      <th>0</th>\n",
       "      <td>170100733</td>\n",
       "      <td>01/01/2017</td>\n",
       "      <td>21</td>\n",
       "      <td>1</td>\n",
       "      <td>1.0</td>\n",
       "      <td>NaN</td>\n",
       "      <td>Head</td>\n",
       "      <td>62.0</td>\n",
       "      <td>NaN</td>\n",
       "      <td>1.0</td>\n",
       "      <td>1.0</td>\n",
       "      <td>0.0</td>\n",
       "      <td>1207.0</td>\n",
       "      <td>0.0</td>\n",
       "      <td>21YOM WAS BOXING WITH FRIEND WHILE DRINKING AN...</td>\n",
       "      <td>. BAC= 93.6 DX HEAD INJURY AND ALCOHOL INTOXIC...</td>\n",
       "      <td>S</td>\n",
       "      <td>46.0</td>\n",
       "      <td>77.6641</td>\n",
       "    </tr>\n",
       "    <tr>\n",
       "      <th>1</th>\n",
       "      <td>170100734</td>\n",
       "      <td>01/01/2017</td>\n",
       "      <td>71</td>\n",
       "      <td>1</td>\n",
       "      <td>1.0</td>\n",
       "      <td>NaN</td>\n",
       "      <td>Upper trunk</td>\n",
       "      <td>53.0</td>\n",
       "      <td>NaN</td>\n",
       "      <td>1.0</td>\n",
       "      <td>5.0</td>\n",
       "      <td>0.0</td>\n",
       "      <td>1807.0</td>\n",
       "      <td>0.0</td>\n",
       "      <td>71YOM FELL ON FLOOR IN BATHROOM. DX RIB CONTUSION</td>\n",
       "      <td>NaN</td>\n",
       "      <td>S</td>\n",
       "      <td>46.0</td>\n",
       "      <td>77.6641</td>\n",
       "    </tr>\n",
       "    <tr>\n",
       "      <th>2</th>\n",
       "      <td>170100735</td>\n",
       "      <td>01/01/2017</td>\n",
       "      <td>16</td>\n",
       "      <td>1</td>\n",
       "      <td>1.0</td>\n",
       "      <td>NaN</td>\n",
       "      <td>33</td>\n",
       "      <td>51.0</td>\n",
       "      <td>NaN</td>\n",
       "      <td>1.0</td>\n",
       "      <td>1.0</td>\n",
       "      <td>0.0</td>\n",
       "      <td>676.0</td>\n",
       "      <td>342.0</td>\n",
       "      <td>16YOM TRIPPED OVER A RUG AND FELL INTO A BURNI...</td>\n",
       "      <td>DX BURNS INVOLVING LESS THAN 10% OF BODY SURFA...</td>\n",
       "      <td>S</td>\n",
       "      <td>46.0</td>\n",
       "      <td>77.6641</td>\n",
       "    </tr>\n",
       "  </tbody>\n",
       "</table>\n",
       "</div>"
      ],
      "text/plain": [
       "  CPSC_Case_Number Treatment_Date Age  Sex  Race Other_Race    Body_Part  \\\n",
       "0        170100733     01/01/2017  21    1   1.0        NaN         Head   \n",
       "1        170100734     01/01/2017  71    1   1.0        NaN  Upper trunk   \n",
       "2        170100735     01/01/2017  16    1   1.0        NaN           33   \n",
       "\n",
       "   Diagnosis Other_Diagnosis  Disposition  Location  Fire_Involvement  \\\n",
       "0       62.0             NaN          1.0       1.0               0.0   \n",
       "1       53.0             NaN          1.0       5.0               0.0   \n",
       "2       51.0             NaN          1.0       1.0               0.0   \n",
       "\n",
       "   Product_1  Product_2                                        Narrative_1  \\\n",
       "0     1207.0        0.0  21YOM WAS BOXING WITH FRIEND WHILE DRINKING AN...   \n",
       "1     1807.0        0.0  71YOM FELL ON FLOOR IN BATHROOM. DX RIB CONTUSION   \n",
       "2      676.0      342.0  16YOM TRIPPED OVER A RUG AND FELL INTO A BURNI...   \n",
       "\n",
       "                                         Narrative_2 Stratum   PSU   Weight  \n",
       "0  . BAC= 93.6 DX HEAD INJURY AND ALCOHOL INTOXIC...       S  46.0  77.6641  \n",
       "1                                                NaN       S  46.0  77.6641  \n",
       "2  DX BURNS INVOLVING LESS THAN 10% OF BODY SURFA...       S  46.0  77.6641  "
      ]
     },
     "execution_count": 25,
     "metadata": {},
     "output_type": "execute_result"
    }
   ],
   "source": [
    "df.head(3)"
   ]
  },
  {
   "cell_type": "code",
   "execution_count": 26,
   "metadata": {},
   "outputs": [
    {
     "data": {
      "text/plain": [
       "0         False\n",
       "1          True\n",
       "2           NaN\n",
       "3         False\n",
       "4          True\n",
       "5          True\n",
       "6          True\n",
       "7         False\n",
       "8           NaN\n",
       "9          True\n",
       "10          NaN\n",
       "11          NaN\n",
       "12          NaN\n",
       "13         True\n",
       "14          NaN\n",
       "15        False\n",
       "16          NaN\n",
       "17          NaN\n",
       "18          NaN\n",
       "19          NaN\n",
       "20        False\n",
       "21          NaN\n",
       "22         True\n",
       "23          NaN\n",
       "24          NaN\n",
       "25        False\n",
       "26          NaN\n",
       "27          NaN\n",
       "28        False\n",
       "29          NaN\n",
       "          ...  \n",
       "386877     True\n",
       "386878     True\n",
       "386879      NaN\n",
       "386880      NaN\n",
       "386881     True\n",
       "386882      NaN\n",
       "386883      NaN\n",
       "386884    False\n",
       "386885      NaN\n",
       "386886      NaN\n",
       "386887     True\n",
       "386888      NaN\n",
       "386889    False\n",
       "386890    False\n",
       "386891    False\n",
       "386892      NaN\n",
       "386893      NaN\n",
       "386894      NaN\n",
       "386895      NaN\n",
       "386896      NaN\n",
       "386897      NaN\n",
       "386898      NaN\n",
       "386899      NaN\n",
       "386900      NaN\n",
       "386901      NaN\n",
       "386902      NaN\n",
       "386903      NaN\n",
       "386904      NaN\n",
       "386905    False\n",
       "386906      NaN\n",
       "Name: Body_Part, Length: 386906, dtype: object"
      ]
     },
     "execution_count": 26,
     "metadata": {},
     "output_type": "execute_result"
    }
   ],
   "source": [
    "# Does the string of the \"Body Part\" column\n",
    "# contain the text 'trunk'\n",
    "df.Body_Part.str.contains(\"trunk\")"
   ]
  },
  {
   "cell_type": "code",
   "execution_count": 27,
   "metadata": {},
   "outputs": [
    {
     "ename": "ValueError",
     "evalue": "cannot index with vector containing NA / NaN values",
     "output_type": "error",
     "traceback": [
      "\u001b[0;31m---------------------------------------------------------------------------\u001b[0m",
      "\u001b[0;31mValueError\u001b[0m                                Traceback (most recent call last)",
      "\u001b[0;32m<ipython-input-27-eaec046318b4>\u001b[0m in \u001b[0;36m<module>\u001b[0;34m()\u001b[0m\n\u001b[0;32m----> 1\u001b[0;31m \u001b[0mdf\u001b[0m\u001b[0;34m[\u001b[0m\u001b[0mdf\u001b[0m\u001b[0;34m.\u001b[0m\u001b[0mBody_Part\u001b[0m\u001b[0;34m.\u001b[0m\u001b[0mstr\u001b[0m\u001b[0;34m.\u001b[0m\u001b[0mcontains\u001b[0m\u001b[0;34m(\u001b[0m\u001b[0;34m\"trunk\"\u001b[0m\u001b[0;34m)\u001b[0m\u001b[0;34m]\u001b[0m\u001b[0;34m\u001b[0m\u001b[0m\n\u001b[0m",
      "\u001b[0;32m~/.pyenv/versions/3.6.4/lib/python3.6/site-packages/pandas/core/frame.py\u001b[0m in \u001b[0;36m__getitem__\u001b[0;34m(self, key)\u001b[0m\n\u001b[1;32m   2131\u001b[0m         \u001b[0;32mif\u001b[0m \u001b[0misinstance\u001b[0m\u001b[0;34m(\u001b[0m\u001b[0mkey\u001b[0m\u001b[0;34m,\u001b[0m \u001b[0;34m(\u001b[0m\u001b[0mSeries\u001b[0m\u001b[0;34m,\u001b[0m \u001b[0mnp\u001b[0m\u001b[0;34m.\u001b[0m\u001b[0mndarray\u001b[0m\u001b[0;34m,\u001b[0m \u001b[0mIndex\u001b[0m\u001b[0;34m,\u001b[0m \u001b[0mlist\u001b[0m\u001b[0;34m)\u001b[0m\u001b[0;34m)\u001b[0m\u001b[0;34m:\u001b[0m\u001b[0;34m\u001b[0m\u001b[0m\n\u001b[1;32m   2132\u001b[0m             \u001b[0;31m# either boolean or fancy integer index\u001b[0m\u001b[0;34m\u001b[0m\u001b[0;34m\u001b[0m\u001b[0m\n\u001b[0;32m-> 2133\u001b[0;31m             \u001b[0;32mreturn\u001b[0m \u001b[0mself\u001b[0m\u001b[0;34m.\u001b[0m\u001b[0m_getitem_array\u001b[0m\u001b[0;34m(\u001b[0m\u001b[0mkey\u001b[0m\u001b[0;34m)\u001b[0m\u001b[0;34m\u001b[0m\u001b[0m\n\u001b[0m\u001b[1;32m   2134\u001b[0m         \u001b[0;32melif\u001b[0m \u001b[0misinstance\u001b[0m\u001b[0;34m(\u001b[0m\u001b[0mkey\u001b[0m\u001b[0;34m,\u001b[0m \u001b[0mDataFrame\u001b[0m\u001b[0;34m)\u001b[0m\u001b[0;34m:\u001b[0m\u001b[0;34m\u001b[0m\u001b[0m\n\u001b[1;32m   2135\u001b[0m             \u001b[0;32mreturn\u001b[0m \u001b[0mself\u001b[0m\u001b[0;34m.\u001b[0m\u001b[0m_getitem_frame\u001b[0m\u001b[0;34m(\u001b[0m\u001b[0mkey\u001b[0m\u001b[0;34m)\u001b[0m\u001b[0;34m\u001b[0m\u001b[0m\n",
      "\u001b[0;32m~/.pyenv/versions/3.6.4/lib/python3.6/site-packages/pandas/core/frame.py\u001b[0m in \u001b[0;36m_getitem_array\u001b[0;34m(self, key)\u001b[0m\n\u001b[1;32m   2158\u001b[0m     \u001b[0;32mdef\u001b[0m \u001b[0m_getitem_array\u001b[0m\u001b[0;34m(\u001b[0m\u001b[0mself\u001b[0m\u001b[0;34m,\u001b[0m \u001b[0mkey\u001b[0m\u001b[0;34m)\u001b[0m\u001b[0;34m:\u001b[0m\u001b[0;34m\u001b[0m\u001b[0m\n\u001b[1;32m   2159\u001b[0m         \u001b[0;31m# also raises Exception if object array with NA values\u001b[0m\u001b[0;34m\u001b[0m\u001b[0;34m\u001b[0m\u001b[0m\n\u001b[0;32m-> 2160\u001b[0;31m         \u001b[0;32mif\u001b[0m \u001b[0mcom\u001b[0m\u001b[0;34m.\u001b[0m\u001b[0mis_bool_indexer\u001b[0m\u001b[0;34m(\u001b[0m\u001b[0mkey\u001b[0m\u001b[0;34m)\u001b[0m\u001b[0;34m:\u001b[0m\u001b[0;34m\u001b[0m\u001b[0m\n\u001b[0m\u001b[1;32m   2161\u001b[0m             \u001b[0;31m# warning here just in case -- previously __setitem__ was\u001b[0m\u001b[0;34m\u001b[0m\u001b[0;34m\u001b[0m\u001b[0m\n\u001b[1;32m   2162\u001b[0m             \u001b[0;31m# reindexing but __getitem__ was not; it seems more reasonable to\u001b[0m\u001b[0;34m\u001b[0m\u001b[0;34m\u001b[0m\u001b[0m\n",
      "\u001b[0;32m~/.pyenv/versions/3.6.4/lib/python3.6/site-packages/pandas/core/common.py\u001b[0m in \u001b[0;36mis_bool_indexer\u001b[0;34m(key)\u001b[0m\n\u001b[1;32m    189\u001b[0m             \u001b[0;32mif\u001b[0m \u001b[0;32mnot\u001b[0m \u001b[0mlib\u001b[0m\u001b[0;34m.\u001b[0m\u001b[0mis_bool_array\u001b[0m\u001b[0;34m(\u001b[0m\u001b[0mkey\u001b[0m\u001b[0;34m)\u001b[0m\u001b[0;34m:\u001b[0m\u001b[0;34m\u001b[0m\u001b[0m\n\u001b[1;32m    190\u001b[0m                 \u001b[0;32mif\u001b[0m \u001b[0misna\u001b[0m\u001b[0;34m(\u001b[0m\u001b[0mkey\u001b[0m\u001b[0;34m)\u001b[0m\u001b[0;34m.\u001b[0m\u001b[0many\u001b[0m\u001b[0;34m(\u001b[0m\u001b[0;34m)\u001b[0m\u001b[0;34m:\u001b[0m\u001b[0;34m\u001b[0m\u001b[0m\n\u001b[0;32m--> 191\u001b[0;31m                     raise ValueError('cannot index with vector containing '\n\u001b[0m\u001b[1;32m    192\u001b[0m                                      'NA / NaN values')\n\u001b[1;32m    193\u001b[0m                 \u001b[0;32mreturn\u001b[0m \u001b[0;32mFalse\u001b[0m\u001b[0;34m\u001b[0m\u001b[0m\n",
      "\u001b[0;31mValueError\u001b[0m: cannot index with vector containing NA / NaN values"
     ]
    }
   ],
   "source": [
    "df[df.Body_Part.str.contains(\"trunk\")]"
   ]
  },
  {
   "cell_type": "code",
   "execution_count": null,
   "metadata": {},
   "outputs": [],
   "source": [
    "# Same as above, but count missing values as False\n",
    "df[df.Body_Part.str.contains(\"trunk\", na=False)]"
   ]
  },
  {
   "cell_type": "code",
   "execution_count": null,
   "metadata": {},
   "outputs": [],
   "source": [
    "# __WALL___PUNCH___ - \n",
    "# ___MUL______RAC___ - "
   ]
  },
  {
   "cell_type": "markdown",
   "metadata": {},
   "source": [
    "# Fill in the blanks with `.str.contains`\n",
    "\n",
    "## This is going to use regular expressions\n",
    "\n",
    "`.*` means \"fill in the blanks\""
   ]
  },
  {
   "cell_type": "code",
   "execution_count": null,
   "metadata": {},
   "outputs": [],
   "source": [
    "df[df.Narrative_1.str.contains(\"FELL.*STAIRS\", na=False)]"
   ]
  },
  {
   "cell_type": "code",
   "execution_count": null,
   "metadata": {},
   "outputs": [],
   "source": [
    "df[df.Narrative_1.str.contains(\"FELL.*STAIRS\", na=False) | df.Narrative_1.str.contains(\"FALL.*STAIRS\", na=False)].head(2)"
   ]
  },
  {
   "cell_type": "markdown",
   "metadata": {},
   "source": [
    "## If you want to do 'not' in pandas for `.str.contains`"
   ]
  },
  {
   "cell_type": "code",
   "execution_count": null,
   "metadata": {},
   "outputs": [],
   "source": [
    "~df.Narrative_1.str.contains(\"WALL\")"
   ]
  },
  {
   "cell_type": "markdown",
   "metadata": {},
   "source": [
    "# `.replace` vs `.str.replace`: EVERYTHING IS MISERABLE\n",
    "\n",
    "**`.replace`** is for ENTIRE CELL VALUES\n",
    "\n",
    "```python\n",
    "df.Body_Part.replace(75,\"Eyeball\")\n",
    "```\n",
    "\n",
    "**`.str.replace`** is used for matching PART OF A STRING\n",
    "\n",
    "\"555 8th St, NY\"\n",
    "\"555 8th St, New York\"\n",
    "\n",
    "```python\n",
    "df['address'] df.address.str.replace(\"NY\", \"New York\")\n",
    "```\n"
   ]
  },
  {
   "cell_type": "code",
   "execution_count": null,
   "metadata": {
    "scrolled": true
   },
   "outputs": [],
   "source": [
    "df['Other_Race'] = df.Other_Race.str.replace('.*MUL.*RAC.*','MULTIRACIAL')\n",
    "df.Other_Race.value_counts()"
   ]
  },
  {
   "cell_type": "code",
   "execution_count": null,
   "metadata": {},
   "outputs": [],
   "source": [
    "df.Other_Race.replace(\".*MUL.*RAC.*\",\"MULTIRACIAL\", regex=True, inplace=True)\n",
    "df.Other_Race.value_counts()"
   ]
  },
  {
   "cell_type": "markdown",
   "metadata": {},
   "source": [
    "# Convert a column into an integer"
   ]
  },
  {
   "cell_type": "code",
   "execution_count": null,
   "metadata": {},
   "outputs": [],
   "source": [
    "df[df.Age == 'C']"
   ]
  },
  {
   "cell_type": "code",
   "execution_count": null,
   "metadata": {},
   "outputs": [],
   "source": [
    "df.dropna(subset=['Treatment_Date'], inplace=True)"
   ]
  },
  {
   "cell_type": "code",
   "execution_count": null,
   "metadata": {},
   "outputs": [],
   "source": [
    "df[df.Age == 'C']"
   ]
  },
  {
   "cell_type": "code",
   "execution_count": null,
   "metadata": {},
   "outputs": [],
   "source": [
    "df['Age'] = df.Age.astype(int)\n",
    "df.dtypes"
   ]
  },
  {
   "cell_type": "code",
   "execution_count": null,
   "metadata": {},
   "outputs": [],
   "source": [
    "df[df.Narrative_1.str.contains(\"PUNCH.*WALL\")].Sex.value_counts()"
   ]
  },
  {
   "cell_type": "code",
   "execution_count": null,
   "metadata": {},
   "outputs": [],
   "source": [
    "wall_punchers = df[df.Narrative_1.str.contains(\"PUNCH.*WALL\")]"
   ]
  },
  {
   "cell_type": "code",
   "execution_count": null,
   "metadata": {},
   "outputs": [],
   "source": [
    "wall_punchers.Sex.value_counts(ascending=True).plot(kind='barh')"
   ]
  },
  {
   "cell_type": "code",
   "execution_count": null,
   "metadata": {},
   "outputs": [],
   "source": [
    "wall_punch = df[df.Narrative_1.str.contains(\"PUNCH.*WALL\")]\n",
    "wall_punch.head()"
   ]
  },
  {
   "cell_type": "code",
   "execution_count": null,
   "metadata": {},
   "outputs": [],
   "source": [
    "wall_punch['Age'] = wall_punch.Age.astype(int)"
   ]
  },
  {
   "cell_type": "code",
   "execution_count": null,
   "metadata": {},
   "outputs": [],
   "source": [
    "wall_punch.dtypes"
   ]
  },
  {
   "cell_type": "code",
   "execution_count": null,
   "metadata": {},
   "outputs": [],
   "source": [
    "wall_punch.Age.hist()"
   ]
  },
  {
   "cell_type": "code",
   "execution_count": null,
   "metadata": {},
   "outputs": [],
   "source": [
    "df.Age.median() "
   ]
  },
  {
   "cell_type": "code",
   "execution_count": null,
   "metadata": {},
   "outputs": [],
   "source": [
    "df.Age.mean() "
   ]
  },
  {
   "cell_type": "code",
   "execution_count": null,
   "metadata": {},
   "outputs": [],
   "source": [
    "df.Narrative_1.median()"
   ]
  },
  {
   "cell_type": "code",
   "execution_count": null,
   "metadata": {},
   "outputs": [],
   "source": [
    "df.Narrative_1.mean()"
   ]
  },
  {
   "cell_type": "code",
   "execution_count": null,
   "metadata": {},
   "outputs": [],
   "source": [
    "df.Age.dtype"
   ]
  },
  {
   "cell_type": "code",
   "execution_count": 29,
   "metadata": {},
   "outputs": [
    {
     "data": {
      "text/plain": [
       "<matplotlib.axes._subplots.AxesSubplot at 0x11ebf4a58>"
      ]
     },
     "execution_count": 29,
     "metadata": {},
     "output_type": "execute_result"
    },
    {
     "data": {
      "image/png": "[encoded data removed]",
      "text/plain": [
       "<Figure size 432x288 with 1 Axes>"
      ]
     },
     "metadata": {},
     "output_type": "display_data"
    }
   ],
   "source": [
    "df.Age.astype(int).hist()"
   ]
  },
  {
   "cell_type": "code",
   "execution_count": null,
   "metadata": {},
   "outputs": [],
   "source": []
  }
 ],
 "metadata": {
  "kernelspec": {
   "display_name": "Python 3",
   "language": "python",
   "name": "python3"
  },
  "language_info": {
   "codemirror_mode": {
    "name": "ipython",
    "version": 3
   },
   "file_extension": ".py",
   "mimetype": "text/x-python",
   "name": "python",
   "nbconvert_exporter": "python",
   "pygments_lexer": "ipython3",
   "version": "3.6.5"
  }
 },
 "nbformat": 4,
 "nbformat_minor": 2
}
